{
 "cells": [
  {
   "cell_type": "markdown",
   "metadata": {},
   "source": [
    "## POS tagging using modified Viterbi"
   ]
  },
  {
   "cell_type": "markdown",
   "metadata": {},
   "source": [
    "### Data Preparation"
   ]
  },
  {
   "cell_type": "code",
   "execution_count": 69,
   "metadata": {},
   "outputs": [],
   "source": [
    "#Importing libraries\n",
    "import nltk, re, pprint\n",
    "import numpy as np\n",
    "import pandas as pd\n",
    "import requests\n",
    "import matplotlib.pyplot as plt\n",
    "import seaborn as sns\n",
    "import pprint, time\n",
    "import random\n",
    "from sklearn.model_selection import train_test_split\n",
    "from nltk.tokenize import word_tokenize"
   ]
  },
  {
   "cell_type": "code",
   "execution_count": 70,
   "metadata": {},
   "outputs": [
    {
     "name": "stderr",
     "output_type": "stream",
     "text": [
      "[nltk_data] Downloading package treebank to\n",
      "[nltk_data]     C:\\Users\\WEL\\AppData\\Roaming\\nltk_data...\n",
      "[nltk_data]   Package treebank is already up-to-date!\n",
      "[nltk_data] Downloading package punkt to\n",
      "[nltk_data]     C:\\Users\\WEL\\AppData\\Roaming\\nltk_data...\n",
      "[nltk_data]   Package punkt is already up-to-date!\n",
      "[nltk_data] Downloading package universal_tagset to\n",
      "[nltk_data]     C:\\Users\\WEL\\AppData\\Roaming\\nltk_data...\n",
      "[nltk_data]   Package universal_tagset is already up-to-date!\n"
     ]
    }
   ],
   "source": [
    "import nltk\n",
    "nltk.download('treebank')\n",
    "nltk.download('punkt')\n",
    "nltk.download('universal_tagset')\n",
    "nltk_data=list(nltk.corpus.treebank.tagged_sents(tagset='universal'))\n",
    "\n"
   ]
  },
  {
   "cell_type": "code",
   "execution_count": 71,
   "metadata": {},
   "outputs": [
    {
     "name": "stdout",
     "output_type": "stream",
     "text": [
      "[[('Pierre', 'NOUN'), ('Vinken', 'NOUN'), (',', '.'), ('61', 'NUM'), ('years', 'NOUN'), ('old', 'ADJ'), (',', '.'), ('will', 'VERB'), ('join', 'VERB'), ('the', 'DET'), ('board', 'NOUN'), ('as', 'ADP'), ('a', 'DET'), ('nonexecutive', 'ADJ'), ('director', 'NOUN'), ('Nov.', 'NOUN'), ('29', 'NUM'), ('.', '.')], [('Mr.', 'NOUN'), ('Vinken', 'NOUN'), ('is', 'VERB'), ('chairman', 'NOUN'), ('of', 'ADP'), ('Elsevier', 'NOUN'), ('N.V.', 'NOUN'), (',', '.'), ('the', 'DET'), ('Dutch', 'NOUN'), ('publishing', 'VERB'), ('group', 'NOUN'), ('.', '.')], [('Rudolph', 'NOUN'), ('Agnew', 'NOUN'), (',', '.'), ('55', 'NUM'), ('years', 'NOUN'), ('old', 'ADJ'), ('and', 'CONJ'), ('former', 'ADJ'), ('chairman', 'NOUN'), ('of', 'ADP'), ('Consolidated', 'NOUN'), ('Gold', 'NOUN'), ('Fields', 'NOUN'), ('PLC', 'NOUN'), (',', '.'), ('was', 'VERB'), ('named', 'VERB'), ('*-1', 'X'), ('a', 'DET'), ('nonexecutive', 'ADJ'), ('director', 'NOUN'), ('of', 'ADP'), ('this', 'DET'), ('British', 'ADJ'), ('industrial', 'ADJ'), ('conglomerate', 'NOUN'), ('.', '.')], [('A', 'DET'), ('form', 'NOUN'), ('of', 'ADP'), ('asbestos', 'NOUN'), ('once', 'ADV'), ('used', 'VERB'), ('*', 'X'), ('*', 'X'), ('to', 'PRT'), ('make', 'VERB'), ('Kent', 'NOUN'), ('cigarette', 'NOUN'), ('filters', 'NOUN'), ('has', 'VERB'), ('caused', 'VERB'), ('a', 'DET'), ('high', 'ADJ'), ('percentage', 'NOUN'), ('of', 'ADP'), ('cancer', 'NOUN'), ('deaths', 'NOUN'), ('among', 'ADP'), ('a', 'DET'), ('group', 'NOUN'), ('of', 'ADP'), ('workers', 'NOUN'), ('exposed', 'VERB'), ('*', 'X'), ('to', 'PRT'), ('it', 'PRON'), ('more', 'ADV'), ('than', 'ADP'), ('30', 'NUM'), ('years', 'NOUN'), ('ago', 'ADP'), (',', '.'), ('researchers', 'NOUN'), ('reported', 'VERB'), ('0', 'X'), ('*T*-1', 'X'), ('.', '.')], [('The', 'DET'), ('asbestos', 'NOUN'), ('fiber', 'NOUN'), (',', '.'), ('crocidolite', 'NOUN'), (',', '.'), ('is', 'VERB'), ('unusually', 'ADV'), ('resilient', 'ADJ'), ('once', 'ADP'), ('it', 'PRON'), ('enters', 'VERB'), ('the', 'DET'), ('lungs', 'NOUN'), (',', '.'), ('with', 'ADP'), ('even', 'ADV'), ('brief', 'ADJ'), ('exposures', 'NOUN'), ('to', 'PRT'), ('it', 'PRON'), ('causing', 'VERB'), ('symptoms', 'NOUN'), ('that', 'DET'), ('*T*-1', 'X'), ('show', 'VERB'), ('up', 'PRT'), ('decades', 'NOUN'), ('later', 'ADJ'), (',', '.'), ('researchers', 'NOUN'), ('said', 'VERB'), ('0', 'X'), ('*T*-2', 'X'), ('.', '.')], [('Lorillard', 'NOUN'), ('Inc.', 'NOUN'), (',', '.'), ('the', 'DET'), ('unit', 'NOUN'), ('of', 'ADP'), ('New', 'ADJ'), ('York-based', 'ADJ'), ('Loews', 'NOUN'), ('Corp.', 'NOUN'), ('that', 'DET'), ('*T*-2', 'X'), ('makes', 'VERB'), ('Kent', 'NOUN'), ('cigarettes', 'NOUN'), (',', '.'), ('stopped', 'VERB'), ('using', 'VERB'), ('crocidolite', 'NOUN'), ('in', 'ADP'), ('its', 'PRON'), ('Micronite', 'NOUN'), ('cigarette', 'NOUN'), ('filters', 'NOUN'), ('in', 'ADP'), ('1956', 'NUM'), ('.', '.')], [('Although', 'ADP'), ('preliminary', 'ADJ'), ('findings', 'NOUN'), ('were', 'VERB'), ('reported', 'VERB'), ('*-2', 'X'), ('more', 'ADV'), ('than', 'ADP'), ('a', 'DET'), ('year', 'NOUN'), ('ago', 'ADP'), (',', '.'), ('the', 'DET'), ('latest', 'ADJ'), ('results', 'NOUN'), ('appear', 'VERB'), ('in', 'ADP'), ('today', 'NOUN'), (\"'s\", 'PRT'), ('New', 'NOUN'), ('England', 'NOUN'), ('Journal', 'NOUN'), ('of', 'ADP'), ('Medicine', 'NOUN'), (',', '.'), ('a', 'DET'), ('forum', 'NOUN'), ('likely', 'ADJ'), ('*', 'X'), ('to', 'PRT'), ('bring', 'VERB'), ('new', 'ADJ'), ('attention', 'NOUN'), ('to', 'PRT'), ('the', 'DET'), ('problem', 'NOUN'), ('.', '.')], [('A', 'DET'), ('Lorillard', 'NOUN'), ('spokewoman', 'NOUN'), ('said', 'VERB'), (',', '.'), ('``', '.'), ('This', 'DET'), ('is', 'VERB'), ('an', 'DET'), ('old', 'ADJ'), ('story', 'NOUN'), ('.', '.')], [('We', 'PRON'), (\"'re\", 'VERB'), ('talking', 'VERB'), ('about', 'ADP'), ('years', 'NOUN'), ('ago', 'ADP'), ('before', 'ADP'), ('anyone', 'NOUN'), ('heard', 'VERB'), ('of', 'ADP'), ('asbestos', 'NOUN'), ('having', 'VERB'), ('any', 'DET'), ('questionable', 'ADJ'), ('properties', 'NOUN'), ('.', '.')], [('There', 'DET'), ('is', 'VERB'), ('no', 'DET'), ('asbestos', 'NOUN'), ('in', 'ADP'), ('our', 'PRON'), ('products', 'NOUN'), ('now', 'ADV'), ('.', '.'), (\"''\", '.')]]\n"
     ]
    }
   ],
   "source": [
    "print(nltk_data[:10])"
   ]
  },
  {
   "cell_type": "code",
   "execution_count": 72,
   "metadata": {},
   "outputs": [
    {
     "name": "stdout",
     "output_type": "stream",
     "text": [
      "3718\n",
      "196\n",
      "[[('``', '.'), ('The', 'DET'), ('morbidity', 'NOUN'), ('rate', 'NOUN'), ('is', 'VERB'), ('a', 'DET'), ('striking', 'ADJ'), ('finding', 'NOUN'), ('among', 'ADP'), ('those', 'DET'), ('of', 'ADP'), ('us', 'PRON'), ('who', 'PRON'), ('*T*-5', 'X'), ('study', 'VERB'), ('asbestos-related', 'ADJ'), ('diseases', 'NOUN'), (',', '.'), (\"''\", '.'), ('said', 'VERB'), ('*T*-1', 'X'), ('Dr.', 'NOUN'), ('Talcott', 'NOUN'), ('.', '.')], [('The', 'DET'), ('idea', 'NOUN'), (',', '.'), ('of', 'ADP'), ('course', 'NOUN'), (':', '.'), ('*', 'X'), ('to', 'PRT'), ('prove', 'VERB'), ('to', 'PRT'), ('125', 'NUM'), ('corporate', 'ADJ'), ('decision', 'NOUN'), ('makers', 'NOUN'), ('that', 'ADP'), ('the', 'DET'), ('buckle', 'NOUN'), ('on', 'ADP'), ('the', 'DET'), ('Rust', 'NOUN'), ('Belt', 'NOUN'), ('is', 'VERB'), (\"n't\", 'ADV'), ('so', 'ADV'), ('rusty', 'ADJ'), ('after', 'ADP'), ('all', 'DET'), (',', '.'), ('that', 'ADP'), ('it', 'PRON'), (\"'s\", 'VERB'), ('a', 'DET'), ('good', 'ADJ'), ('place', 'NOUN'), ('0', 'X'), ('for', 'ADP'), ('a', 'DET'), ('company', 'NOUN'), ('to', 'PRT'), ('expand', 'VERB'), ('*T*-1', 'X'), ('.', '.')], [('She', 'PRON'), ('believes', 'VERB'), ('that', 'ADP'), ('the', 'DET'), ('only', 'ADJ'), ('answer', 'NOUN'), ('for', 'ADP'), ('individuals', 'NOUN'), ('is', 'VERB'), ('*', 'X'), ('to', 'PRT'), ('``', '.'), ('buy', 'VERB'), ('stocks', 'NOUN'), ('that', 'DET'), ('*T*-1', 'X'), (\"'ll\", 'VERB'), ('weather', 'VERB'), ('any', 'DET'), ('storm', 'NOUN'), ('.', '.'), (\"''\", '.')], [('It', 'PRON'), ('shed', 'VERB'), ('about', 'ADP'), ('7', 'NUM'), ('pence', 'NOUN'), (',', '.'), ('however', 'ADV'), (',', '.'), ('after', 'ADP'), ('dealers', 'NOUN'), ('said', 'VERB'), ('0', 'X'), ('the', 'DET'), ('market', 'NOUN'), ('was', 'VERB'), ('disappointed', 'VERB'), ('that', 'ADP'), ('Ford', 'NOUN'), ('did', 'VERB'), (\"n't\", 'ADV'), ('move', 'VERB'), ('*-1', 'X'), ('to', 'PRT'), ('tender', 'VERB'), ('a', 'DET'), ('bid', 'NOUN'), ('for', 'ADP'), ('control', 'NOUN'), ('of', 'ADP'), ('the', 'DET'), ('company', 'NOUN'), ('.', '.')], [('Similarly', 'ADV'), (',', '.'), ('Campbell', 'NOUN'), (\"'s\", 'PRT'), ('Italian', 'ADJ'), ('biscuit', 'NOUN'), ('operation', 'NOUN'), (',', '.'), ('D.', 'NOUN'), ('Lazzaroni', 'NOUN'), ('&', 'CONJ'), ('Co.', 'NOUN'), (',', '.'), ('has', 'VERB'), ('been', 'VERB'), ('hurt', 'VERB'), ('*-40', 'X'), ('by', 'ADP'), ('overproduction', 'NOUN'), ('and', 'CONJ'), ('distribution', 'NOUN'), ('problems', 'NOUN'), ('.', '.')], [('The', 'DET'), ('branch', 'NOUN'), ('of', 'ADP'), ('the', 'DET'), ('Bank', 'NOUN'), ('for', 'ADP'), ('Foreign', 'NOUN'), ('Economic', 'NOUN'), ('Affairs', 'NOUN'), ('was', 'VERB'), ('approved', 'VERB'), ('*-1', 'X'), ('last', 'ADJ'), ('spring', 'NOUN'), ('and', 'CONJ'), ('opened', 'VERB'), ('in', 'ADP'), ('July', 'NOUN'), ('.', '.')], [('``', '.'), ('They', 'PRON'), ('are', 'VERB'), (\"n't\", 'ADV'), ('really', 'ADV'), ('a', 'DET'), ('thrift', 'NOUN'), (',', '.'), (\"''\", '.'), ('says', 'VERB'), ('*T*-1', 'X'), ('Jonathan', 'NOUN'), ('Gray', 'NOUN'), (',', '.'), ('a', 'DET'), ('Sanford', 'NOUN'), ('C.', 'NOUN'), ('Bernstein', 'NOUN'), ('analyst', 'NOUN'), ('.', '.')], [('The', 'DET'), ('Soviets', 'NOUN'), (',', '.'), ('who', 'PRON'), ('*T*-12', 'X'), ('normally', 'ADV'), ('have', 'VERB'), ('few', 'ADJ'), ('clients', 'NOUN'), ('other', 'ADJ'), ('than', 'ADP'), ('the', 'DET'), ('state', 'NOUN'), (',', '.'), ('will', 'VERB'), ('get', 'VERB'), ('``', '.'), ('exposure', 'NOUN'), ('to', 'PRT'), ('a', 'DET'), ('market', 'NOUN'), ('system', 'NOUN'), (',', '.'), (\"''\", '.'), ('he', 'PRON'), ('says', 'VERB'), ('0', 'X'), ('*T*-1', 'X'), ('.', '.')], [('A', 'DET'), ('USX', 'NOUN'), ('spokesman', 'NOUN'), ('said', 'VERB'), ('0', 'X'), ('the', 'DET'), ('company', 'NOUN'), ('had', 'VERB'), (\"n't\", 'ADV'), ('yet', 'ADV'), ('received', 'VERB'), ('any', 'DET'), ('documents', 'NOUN'), ('*ICH*-1', 'X'), ('from', 'ADP'), ('OSHA', 'NOUN'), ('regarding', 'VERB'), ('the', 'DET'), ('penalty', 'NOUN'), ('or', 'CONJ'), ('fine', 'NOUN'), ('.', '.')], [('The', 'DET'), ('monthly', 'ADJ'), ('sales', 'NOUN'), ('have', 'VERB'), ('been', 'VERB'), ('setting', 'VERB'), ('records', 'NOUN'), ('every', 'DET'), ('month', 'NOUN'), ('since', 'ADP'), ('March', 'NOUN'), ('.', '.')], [('Similar', 'ADJ'), ('levels', 'NOUN'), ('hamstrung', 'VERB'), ('barge', 'NOUN'), ('shipments', 'NOUN'), ('last', 'ADJ'), ('year', 'NOUN'), ('in', 'ADP'), ('the', 'DET'), ('wake', 'NOUN'), ('of', 'ADP'), ('the', 'DET'), ('worst', 'ADJ'), ('drought', 'NOUN'), ('in', 'ADP'), ('50', 'NUM'), ('years', 'NOUN'), ('.', '.')], [('Lentjes', 'NOUN'), (\"'\", 'PRT'), ('product', 'NOUN'), ('mix', 'NOUN'), ('of', 'ADP'), ('specialized', 'VERB'), ('boilers', 'NOUN'), ('and', 'CONJ'), ('pipes', 'NOUN'), ('provides', 'VERB'), ('a', 'DET'), ('good', 'ADJ'), ('fit', 'NOUN'), ('with', 'ADP'), ('its', 'PRON'), ('own', 'ADJ'), ('Lurgi', 'NOUN'), ('G.m.b', 'NOUN'), ('.', '.'), ('H.', 'NOUN'), ('plant', 'NOUN'), ('engineering', 'VERB'), ('unit', 'NOUN'), (',', '.'), ('the', 'DET'), ('company', 'NOUN'), ('said', 'VERB'), ('0', 'X'), ('*T*-1', 'X'), ('.', '.')], [('First', 'NOUN'), ('Securities', 'NOUN'), ('Group', 'NOUN'), ('of', 'ADP'), ('California', 'NOUN'), ('and', 'CONJ'), ('a', 'DET'), ('principal', 'NOUN'), ('of', 'ADP'), ('the', 'DET'), ('firm', 'NOUN'), (',', '.'), ('Louis', 'NOUN'), ('Fernando', 'NOUN'), ('Vargas', 'NOUN'), ('of', 'ADP'), ('Marina', 'NOUN'), ('del', 'DET'), ('Rey', 'NOUN'), (',', '.'), ('Calif.', 'NOUN'), (',', '.'), ('were', 'VERB'), ('jointly', 'ADV'), ('fined', 'VERB'), ('*-1', 'X'), ('$', '.'), ('15,000', 'NUM'), ('*U*', 'X'), ('and', 'CONJ'), ('expelled', 'VERB'), ('*-1', 'X'), ('for', 'ADP'), ('alleged', 'VERB'), ('violations', 'NOUN'), ('of', 'ADP'), ('reporting', 'VERB'), ('requirements', 'NOUN'), ('on', 'ADP'), ('securities', 'NOUN'), ('sales', 'NOUN'), ('.', '.')], [('Where', 'ADV'), ('they', 'PRON'), ('disagree', 'VERB'), ('*T*-1', 'X'), ('is', 'VERB'), ('on', 'ADP'), ('the', 'DET'), ('subject', 'NOUN'), ('of', 'ADP'), ('U.S.', 'NOUN'), ('direct', 'ADJ'), ('investment', 'NOUN'), ('in', 'ADP'), ('Japan', 'NOUN'), ('.', '.')], [('In', 'ADP'), ('a', 'DET'), ('few', 'ADJ'), ('weeks', 'NOUN'), (',', '.'), ('many', 'ADJ'), ('barges', 'NOUN'), ('probably', 'ADV'), ('wo', 'VERB'), (\"n't\", 'ADV'), ('be', 'VERB'), ('able', 'ADJ'), ('*-2', 'X'), ('to', 'PRT'), ('operate', 'VERB'), ('fully', 'ADV'), ('loaded', 'VERB'), ('south', 'ADV'), ('of', 'ADP'), ('St.', 'NOUN'), ('Louis', 'NOUN'), ('because', 'ADP'), ('the', 'DET'), ('U.S.', 'NOUN'), ('Army', 'NOUN'), ('Corps', 'NOUN'), ('of', 'ADP'), ('Engineers', 'NOUN'), ('is', 'VERB'), ('beginning', 'VERB'), ('*-3', 'X'), ('to', 'PRT'), ('reduce', 'VERB'), ('the', 'DET'), ('flow', 'NOUN'), ('of', 'ADP'), ('the', 'DET'), ('Missouri', 'NOUN'), ('River', 'NOUN'), (',', '.'), ('which', 'DET'), ('*T*-1', 'X'), ('feeds', 'VERB'), ('into', 'ADP'), ('the', 'DET'), ('Mississippi', 'NOUN'), ('River', 'NOUN'), ('.', '.')], [('It', 'PRON'), (\"'s\", 'VERB'), ('a', 'DET'), ('classic', 'ADJ'), ('situation', 'NOUN'), ('of', 'ADP'), ('ads', 'NOUN'), ('that', 'DET'), ('*T*-75', 'X'), ('are', 'VERB'), ('true', 'ADJ'), ('but', 'CONJ'), ('not', 'ADV'), ('always', 'ADV'), ('fully', 'ADV'), ('accurate', 'ADJ'), ('.', '.')], [('But', 'CONJ'), ('Mr.', 'NOUN'), ('Barnum', 'NOUN'), ('called', 'VERB'), ('that', 'ADP'), ('``', '.'), ('a', 'DET'), ('worst-case', 'ADJ'), (\"''\", '.'), ('scenario', 'NOUN'), ('.', '.')], [('Sandoz', 'NOUN'), ('Ltd.', 'NOUN'), ('has', 'VERB'), ('licensed', 'VERB'), ('certain', 'ADJ'), ('manufacturing', 'NOUN'), ('and', 'CONJ'), ('marketing', 'NOUN'), ('rights', 'NOUN'), ('for', 'ADP'), ('Interleukin-3', 'NOUN'), ('from', 'ADP'), ('Genetics', 'NOUN'), ('Institute', 'NOUN'), ('and', 'CONJ'), ('is', 'VERB'), ('conducting', 'VERB'), ('preclinical', 'ADJ'), ('studies', 'NOUN'), ('with', 'ADP'), ('it', 'PRON'), ('.', '.')], [('The', 'DET'), ('Needham', 'NOUN'), (',', '.'), ('Mass.', 'NOUN'), (',', '.'), ('concern', 'NOUN'), ('tracks', 'VERB'), ('investments', 'NOUN'), ('in', 'ADP'), ('new', 'ADJ'), ('businesses', 'NOUN'), ('.', '.')], [('Department', 'NOUN'), ('officials', 'NOUN'), ('say', 'VERB'), ('that', 'ADP'), ('HHS', 'NOUN'), ('Secretary', 'NOUN'), ('Louis', 'NOUN'), ('Sullivan', 'NOUN'), ('will', 'VERB'), ('support', 'VERB'), ('Dr.', 'NOUN'), ('Mason', 'NOUN'), (\"'s\", 'PRT'), ('ruling', 'NOUN'), (',', '.'), ('which', 'DET'), ('*T*-112', 'X'), ('will', 'VERB'), ('be', 'VERB'), ('issued', 'VERB'), ('*-1', 'X'), ('soon', 'ADV'), ('in', 'ADP'), ('the', 'DET'), ('form', 'NOUN'), ('of', 'ADP'), ('a', 'DET'), ('letter', 'NOUN'), ('to', 'PRT'), ('the', 'DET'), ('acting', 'ADJ'), ('director', 'NOUN'), ('of', 'ADP'), ('the', 'DET'), ('National', 'NOUN'), ('Institutes', 'NOUN'), ('of', 'ADP'), ('Health', 'NOUN'), ('.', '.')], [('In', 'ADP'), ('fiscal', 'ADJ'), ('1988', 'NUM'), (',', '.'), ('the', 'DET'), ('company', 'NOUN'), ('earned', 'VERB'), ('$', '.'), ('17.3', 'NUM'), ('million', 'NUM'), ('*U*', 'X'), (',', '.'), ('or', 'CONJ'), ('$', '.'), ('1.92', 'NUM'), ('*U*', 'X'), ('a', 'DET'), ('share', 'NOUN'), (',', '.'), ('on', 'ADP'), ('revenue', 'NOUN'), ('of', 'ADP'), ('$', '.'), ('352.9', 'NUM'), ('million', 'NUM'), ('*U*', 'X'), ('.', '.')], [('And', 'CONJ'), ('the', 'DET'), ('city', 'NOUN'), ('decided', 'VERB'), ('*-1', 'X'), ('to', 'PRT'), ('treat', 'VERB'), ('its', 'PRON'), ('guests', 'NOUN'), ('more', 'ADJ'), ('like', 'ADP'), ('royalty', 'NOUN'), ('or', 'CONJ'), ('rock', 'NOUN'), ('stars', 'NOUN'), ('than', 'ADP'), ('factory', 'NOUN'), ('owners', 'NOUN'), ('.', '.')], [('But', 'CONJ'), ('anti-abortionists', 'NOUN'), ('oppose', 'VERB'), ('such', 'ADJ'), ('research', 'NOUN'), ('because', 'ADP'), ('they', 'PRON'), ('worry', 'VERB'), ('that', 'ADP'), ('the', 'DET'), ('development', 'NOUN'), ('of', 'ADP'), ('therapies', 'NOUN'), ('using', 'VERB'), ('fetal-tissue', 'ADJ'), ('transplants', 'NOUN'), ('could', 'VERB'), ('lead', 'VERB'), ('to', 'PRT'), ('an', 'DET'), ('increase', 'NOUN'), ('in', 'ADP'), ('abortions', 'NOUN'), ('.', '.')], [('After', 'ADP'), ('the', 'DET'), ('first', 'ADJ'), ('set', 'NOUN'), ('of', 'ADP'), ('meetings', 'NOUN'), ('two', 'NUM'), ('months', 'NOUN'), ('ago', 'ADV'), (',', '.'), ('some', 'DET'), ('U.S.', 'NOUN'), ('officials', 'NOUN'), ('complained', 'VERB'), ('that', 'ADP'), ('Japan', 'NOUN'), ('had', 'VERB'), (\"n't\", 'ADV'), ('come', 'VERB'), ('up', 'PRT'), ('with', 'ADP'), ('specific', 'ADJ'), ('changes', 'NOUN'), ('0', 'X'), ('it', 'PRON'), ('was', 'VERB'), ('prepared', 'VERB'), ('*-1', 'X'), ('to', 'PRT'), ('make', 'VERB'), ('*T*-2', 'X'), ('.', '.')], [('Image', 'NOUN'), ('has', 'VERB'), (',', '.'), ('of', 'ADP'), ('course', 'NOUN'), (',', '.'), ('a', 'DET'), ('great', 'ADJ'), ('deal', 'NOUN'), ('0', 'X'), ('*', 'X'), ('to', 'PRT'), ('do', 'VERB'), ('*T*-1', 'X'), ('with', 'ADP'), ('what', 'PRON'), ('*T*-170', 'X'), ('sells', 'VERB'), ('and', 'CONJ'), ('what', 'PRON'), ('*T*-171', 'X'), ('does', 'VERB'), (\"n't\", 'ADV'), ('*?*', 'X'), (',', '.'), ('and', 'CONJ'), ('it', 'PRON'), ('ca', 'VERB'), (\"n't\", 'ADV'), ('be', 'VERB'), ('forced', 'VERB'), ('*-100', 'X'), ('.', '.')], [('The', 'DET'), ('dollar', 'NOUN'), ('posted', 'VERB'), ('gains', 'NOUN'), ('against', 'ADP'), ('all', 'DET'), ('major', 'ADJ'), ('currencies', 'NOUN'), ('yesterday', 'NOUN'), (',', '.'), ('*-1', 'X'), ('buoyed', 'VERB'), ('*-2', 'X'), ('by', 'ADP'), ('persistent', 'ADJ'), ('Japanese', 'ADJ'), ('demand', 'NOUN'), ('for', 'ADP'), ('U.S.', 'NOUN'), ('bond', 'NOUN'), ('issues', 'NOUN'), ('.', '.')], [('The', 'DET'), ('survey', 'NOUN'), ('found', 'VERB'), ('that', 'ADP'), ('nearly', 'ADV'), ('half', 'NOUN'), ('of', 'ADP'), ('Hong', 'NOUN'), ('Kong', 'NOUN'), ('consumers', 'NOUN'), ('espouse', 'VERB'), ('what', 'PRON'), ('it', 'PRON'), ('identified', 'VERB'), ('*T*-61', 'X'), ('as', 'ADP'), ('materialistic', 'ADJ'), ('values', 'NOUN'), (',', '.'), ('compared', 'VERB'), ('with', 'ADP'), ('about', 'ADV'), ('one-third', 'ADJ'), ('in', 'ADP'), ('Japan', 'NOUN'), ('and', 'CONJ'), ('the', 'DET'), ('U.S.', 'NOUN'), ('.', '.')], [('A', 'DET'), ('marketing', 'NOUN'), ('study', 'NOUN'), ('indicates', 'VERB'), ('that', 'ADP'), ('Hong', 'NOUN'), ('Kong', 'NOUN'), ('consumers', 'NOUN'), ('are', 'VERB'), ('the', 'DET'), ('most', 'ADV'), ('materialistic', 'ADJ'), ('in', 'ADP'), ('the', 'DET'), ('14', 'NUM'), ('major', 'ADJ'), ('markets', 'NOUN'), ('where', 'ADV'), ('the', 'DET'), ('survey', 'NOUN'), ('was', 'VERB'), ('carried', 'VERB'), ('out', 'PRT'), ('*T*-1', 'X'), ('.', '.')], [('Mr.', 'NOUN'), ('Phelan', 'NOUN'), ('then', 'ADV'), ('responded', 'VERB'), ('that', 'ADP'), ('he', 'PRON'), ('would', 'VERB'), ('have', 'VERB'), ('been', 'VERB'), ('happy', 'ADJ'), ('*-1', 'X'), ('just', 'ADV'), ('writing', 'VERB'), ('a', 'DET'), ('report', 'NOUN'), ('to', 'PRT'), ('the', 'DET'), ('panel', 'NOUN'), (',', '.'), ('the', 'DET'), ('aide', 'NOUN'), ('added', 'VERB'), ('0', 'X'), ('*T*-2', 'X'), ('.', '.')], [('Its', 'PRON'), ('index', 'NOUN'), ('inched', 'VERB'), ('up', 'ADV'), ('to', 'PRT'), ('47.6', 'NUM'), ('%', 'NOUN'), ('in', 'ADP'), ('October', 'NOUN'), ('from', 'ADP'), ('46', 'NUM'), ('%', 'NOUN'), ('in', 'ADP'), ('September', 'NOUN'), ('.', '.')], [('The', 'DET'), ('company', 'NOUN'), ('has', 'VERB'), ('reported', 'VERB'), ('declines', 'NOUN'), ('in', 'ADP'), ('operating', 'NOUN'), ('profit', 'NOUN'), ('in', 'ADP'), ('each', 'DET'), ('of', 'ADP'), ('the', 'DET'), ('past', 'ADJ'), ('three', 'NUM'), ('years', 'NOUN'), (',', '.'), ('despite', 'ADP'), ('steady', 'ADJ'), ('sales', 'NOUN'), ('growth', 'NOUN'), ('.', '.')], [('The', 'DET'), ('U.S.', 'NOUN'), ('is', 'VERB'), ('one', 'NUM'), ('of', 'ADP'), ('the', 'DET'), ('few', 'ADJ'), ('industrialized', 'VERB'), ('nations', 'NOUN'), ('that', 'DET'), ('*T*-7', 'X'), ('does', 'VERB'), (\"n't\", 'ADV'), ('have', 'VERB'), ('a', 'DET'), ('higher', 'ADJ'), ('standard', 'NOUN'), ('of', 'ADP'), ('regulation', 'NOUN'), ('for', 'ADP'), ('the', 'DET'), ('smooth', 'ADJ'), (',', '.'), ('needle-like', 'ADJ'), ('fibers', 'NOUN'), ('such', 'ADJ'), ('as', 'ADP'), ('crocidolite', 'NOUN'), ('that', 'DET'), ('*T*-1', 'X'), ('are', 'VERB'), ('classified', 'VERB'), ('*-5', 'X'), ('as', 'ADP'), ('amphobiles', 'NOUN'), (',', '.'), ('according', 'VERB'), ('to', 'PRT'), ('Brooke', 'NOUN'), ('T.', 'NOUN'), ('Mossman', 'NOUN'), (',', '.'), ('a', 'DET'), ('professor', 'NOUN'), ('of', 'ADP'), ('pathlogy', 'NOUN'), ('at', 'ADP'), ('the', 'DET'), ('University', 'NOUN'), ('of', 'ADP'), ('Vermont', 'NOUN'), ('College', 'NOUN'), ('of', 'ADP'), ('Medicine', 'NOUN'), ('.', '.')], [('*', 'X'), ('Beginning', 'VERB'), ('in', 'ADP'), ('1980', 'NUM'), (',', '.'), ('courts', 'NOUN'), ('in', 'ADP'), ('several', 'ADJ'), ('states', 'NOUN'), ('including', 'VERB'), ('California', 'NOUN'), ('and', 'CONJ'), ('New', 'NOUN'), ('York', 'NOUN'), ('decided', 'VERB'), ('*-2', 'X'), ('to', 'PRT'), ('suspend', 'VERB'), ('the', 'DET'), ('common-law', 'NOUN'), ('rule', 'NOUN'), ('that', 'ADP'), ('plaintiffs', 'NOUN'), ('must', 'VERB'), ('prove', 'VERB'), ('that', 'ADP'), ('the', 'DET'), ('defendants', 'NOUN'), ('are', 'VERB'), ('the', 'DET'), ('ones', 'NOUN'), ('who', 'PRON'), ('*T*-1', 'X'), ('are', 'VERB'), ('liable', 'ADJ'), ('.', '.')], [('She', 'PRON'), ('says', 'VERB'), ('that', 'ADP'), ('because', 'ADP'), ('of', 'ADP'), ('Mrs.', 'NOUN'), ('Yeargin', 'NOUN'), ('she', 'PRON'), ('gave', 'VERB'), ('up', 'PRT'), ('ambitions', 'NOUN'), ('in', 'ADP'), ('architecture', 'NOUN'), ('and', 'CONJ'), ('is', 'VERB'), ('studying', 'VERB'), ('*-1', 'X'), ('to', 'PRT'), ('become', 'VERB'), ('a', 'DET'), ('teacher', 'NOUN'), ('.', '.')], [('The', 'DET'), ('broader', 'ADJ'), ('question', 'NOUN'), ('is', 'VERB'), ('where', 'ADV'), ('the', 'DET'), ('Senate', 'NOUN'), ('stands', 'VERB'), ('*T*-1', 'X'), ('on', 'ADP'), ('the', 'DET'), ('issue', 'NOUN'), ('.', '.')], [('``', '.'), ('It', 'PRON'), ('*EXP*-1', 'X'), (\"'s\", 'VERB'), ('not', 'ADV'), ('easy', 'ADJ'), ('*', 'X'), ('to', 'PRT'), ('roll', 'VERB'), ('out', 'PRT'), ('something', 'NOUN'), ('that', 'ADV'), ('comprehensive', 'ADJ'), (',', '.'), ('and', 'CONJ'), ('make', 'VERB'), ('it', 'PRON'), ('pay', 'VERB'), (',', '.'), (\"''\", '.'), ('Mr.', 'NOUN'), ('Jacob', 'NOUN'), ('says', 'VERB'), ('*T*-2', 'X'), ('.', '.')], [('Beauty', 'NOUN'), ('Takes', 'VERB'), ('Backseat', 'NOUN'), ('To', 'PRT'), ('Safety', 'NOUN'), ('on', 'ADP'), ('Bridges', 'NOUN')], [('If', 'ADP'), ('a', 'DET'), ('competitor', 'NOUN'), ('enters', 'VERB'), ('the', 'DET'), ('game', 'NOUN'), (',', '.'), ('for', 'ADP'), ('example', 'NOUN'), (',', '.'), ('Mr.', 'NOUN'), ('Hahn', 'NOUN'), ('could', 'VERB'), ('face', 'VERB'), ('the', 'DET'), ('dilemma', 'NOUN'), ('of', 'ADP'), ('*', 'X'), ('paying', 'VERB'), ('a', 'DET'), ('premium', 'NOUN'), ('for', 'ADP'), ('Nekoosa', 'NOUN'), ('or', 'CONJ'), ('seeing', 'VERB'), ('the', 'DET'), ('company', 'NOUN'), ('fall', 'NOUN'), ('into', 'ADP'), ('the', 'DET'), ('arms', 'NOUN'), ('of', 'ADP'), ('a', 'DET'), ('rival', 'NOUN'), ('.', '.')], [('South', 'ADJ'), ('African', 'ADJ'), ('gold', 'NOUN'), ('stocks', 'NOUN'), ('closed', 'VERB'), ('marginally', 'ADV'), ('lower', 'ADJ'), ('.', '.')], [('Oshkosh', 'NOUN'), ('Truck', 'NOUN'), ('attributed', 'VERB'), ('the', 'DET'), ('downturn', 'NOUN'), ('in', 'ADP'), ('its', 'PRON'), ('earnings', 'NOUN'), ('to', 'PRT'), ('higher', 'ADJ'), ('start-up', 'ADJ'), ('costs', 'NOUN'), ('of', 'ADP'), ('its', 'PRON'), ('new', 'ADJ'), ('chassis', 'NOUN'), ('division', 'NOUN'), (',', '.'), ('a', 'DET'), ('softer', 'ADJ'), ('motor-home', 'NOUN'), ('market', 'NOUN'), ('and', 'CONJ'), ('higher', 'ADJ'), ('administrative', 'ADJ'), ('costs', 'NOUN'), ('of', 'ADP'), ('compliance', 'NOUN'), ('with', 'ADP'), ('government', 'NOUN'), ('contractor', 'NOUN'), ('regulations', 'NOUN'), ('.', '.')]]\n"
     ]
    }
   ],
   "source": [
    "#Dividing it into train and test set split\n",
    "import random\n",
    "from sklearn.model_selection import train_test_split\n",
    "random.seed(1234)\n",
    "train_set, test_set = train_test_split(nltk_data,test_size=0.05)\n",
    "\n",
    "print(len(train_set))\n",
    "print(len(test_set))\n",
    "print(train_set[:40])"
   ]
  },
  {
   "cell_type": "code",
   "execution_count": 73,
   "metadata": {},
   "outputs": [
    {
     "data": {
      "text/plain": [
       "95526"
      ]
     },
     "execution_count": 73,
     "metadata": {},
     "output_type": "execute_result"
    }
   ],
   "source": [
    "\n",
    "# Getting list of tagged words\n",
    "train_tagged_words = [tup for sent in train_set for tup in sent]\n",
    "len(train_tagged_words)"
   ]
  },
  {
   "cell_type": "code",
   "execution_count": 74,
   "metadata": {},
   "outputs": [
    {
     "data": {
      "text/plain": [
       "['``',\n",
       " 'The',\n",
       " 'morbidity',\n",
       " 'rate',\n",
       " 'is',\n",
       " 'a',\n",
       " 'striking',\n",
       " 'finding',\n",
       " 'among',\n",
       " 'those']"
      ]
     },
     "execution_count": 74,
     "metadata": {},
     "output_type": "execute_result"
    }
   ],
   "source": [
    "\n",
    "# tokens \n",
    "tokens = [pair[0] for pair in train_tagged_words]\n",
    "tokens[:10]\n"
   ]
  },
  {
   "cell_type": "markdown",
   "metadata": {},
   "source": [
    "# vocabulary"
   ]
  },
  {
   "cell_type": "code",
   "execution_count": 75,
   "metadata": {},
   "outputs": [
    {
     "name": "stdout",
     "output_type": "stream",
     "text": [
      "12084\n"
     ]
    }
   ],
   "source": [
    "\n",
    "V = set(tokens)\n",
    "print(len(V))"
   ]
  },
  {
   "cell_type": "code",
   "execution_count": 76,
   "metadata": {},
   "outputs": [
    {
     "name": "stdout",
     "output_type": "stream",
     "text": [
      "12\n",
      "{'X', 'PRT', 'NOUN', 'NUM', 'ADV', 'CONJ', '.', 'VERB', 'ADJ', 'ADP', 'DET', 'PRON'}\n"
     ]
    }
   ],
   "source": [
    "\n",
    "# number of tags\n",
    "T = set([pair[1] for pair in train_tagged_words])\n",
    "print(len(T))\n",
    "print(T)"
   ]
  },
  {
   "cell_type": "markdown",
   "metadata": {},
   "source": [
    "### Emission Probabilities"
   ]
  },
  {
   "cell_type": "code",
   "execution_count": 77,
   "metadata": {},
   "outputs": [],
   "source": [
    "# computing P(w/t) and storing in T x V matrix\n",
    "import numpy as np\n",
    "t = len(T)\n",
    "v = len(V)\n",
    "w_given_t = np.zeros((t, v))"
   ]
  },
  {
   "cell_type": "code",
   "execution_count": 78,
   "metadata": {},
   "outputs": [],
   "source": [
    "\n",
    "# compute word given tag: Emission Probability\n",
    "def word_given_tag(word, tag, train_bag = train_tagged_words):\n",
    "    tag_list = [pair for pair in train_bag if pair[1]==tag]\n",
    "    count_tag = len(tag_list)\n",
    "    w_given_tag_list = [pair[0] for pair in tag_list if pair[0]==word]\n",
    "    count_w_given_tag = len(w_given_tag_list)\n",
    "    \n",
    "    return (count_w_given_tag, count_tag)"
   ]
  },
  {
   "cell_type": "code",
   "execution_count": 79,
   "metadata": {},
   "outputs": [],
   "source": [
    "\n",
    "# compute tag given tag: tag2(t2) given tag1 (t1): Transition Probability\n",
    "\n",
    "def t2_given_t1(t2, t1, train_bag = train_tagged_words):\n",
    "    tags = [pair[1] for pair in train_bag]\n",
    "    count_t1 = len([t for t in tags if t==t1])\n",
    "    count_t2_t1 = 0\n",
    "    for index in range(len(tags)-1):\n",
    "        if tags[index]==t1 and tags[index+1] == t2:\n",
    "            count_t2_t1 += 1\n",
    "    return (count_t2_t1, count_t1)"
   ]
  },
  {
   "cell_type": "markdown",
   "metadata": {},
   "source": [
    "# Tags Matrix"
   ]
  },
  {
   "cell_type": "code",
   "execution_count": 80,
   "metadata": {},
   "outputs": [
    {
     "data": {
      "text/plain": [
       "array([[7.48006403e-02, 1.84689000e-01, 6.20414689e-02, 2.87081348e-03,\n",
       "        2.51993611e-02, 1.03668263e-02, 1.65390745e-01, 2.03189790e-01,\n",
       "        1.65869221e-02, 1.45454541e-01, 5.55023924e-02, 5.39074950e-02],\n",
       "       [1.34338140e-02, 1.63826998e-03, 2.49672353e-01, 5.60288318e-02,\n",
       "        9.50196572e-03, 2.29357788e-03, 4.25950214e-02, 4.02031451e-01,\n",
       "        8.28964636e-02, 2.06422023e-02, 1.01245083e-01, 1.80209707e-02],\n",
       "       [2.94021089e-02, 4.41031642e-02, 2.64473051e-01, 9.41159297e-03,\n",
       "        1.70357134e-02, 4.23156880e-02, 2.39813223e-01, 1.47010535e-01,\n",
       "        1.22569585e-02, 1.76339686e-01, 1.32783717e-02, 4.55988012e-03],\n",
       "       [2.11447209e-01, 2.72835121e-02, 3.52016598e-01, 1.86239615e-01,\n",
       "        2.96559907e-03, 1.42348753e-02, 1.15361802e-01, 1.80901550e-02,\n",
       "        3.29181477e-02, 3.46975103e-02, 3.26215895e-03, 1.48279953e-03],\n",
       "       [2.16018613e-02, 1.49551341e-02, 3.15719508e-02, 3.15719508e-02,\n",
       "        7.80990347e-02, 6.64672628e-03, 1.38251916e-01, 3.47623795e-01,\n",
       "        1.29278824e-01, 1.17314726e-01, 6.74642771e-02, 1.56198069e-02],\n",
       "       [8.40336177e-03, 4.66853427e-03, 3.47338945e-01, 4.15499546e-02,\n",
       "        5.46218492e-02, 4.66853409e-04, 3.68814208e-02, 1.56862751e-01,\n",
       "        1.19047619e-01, 5.18207289e-02, 1.19514473e-01, 5.88235296e-02],\n",
       "       [2.62165554e-02, 2.42413371e-03, 2.22661167e-01, 8.08942392e-02,\n",
       "        5.27922437e-02, 5.79996407e-02, 9.45412070e-02, 8.89746845e-02,\n",
       "        4.36344035e-02, 9.05009881e-02, 1.74268275e-01, 6.50026947e-02],\n",
       "       [2.17979625e-01, 3.07177845e-02, 1.10039659e-01, 2.33299639e-02,\n",
       "        8.21992382e-02, 5.44365821e-03, 3.49171795e-02, 1.68986708e-01,\n",
       "        6.55571967e-02, 9.22311246e-02, 1.33680686e-01, 3.49171795e-02],\n",
       "       [2.04519220e-02, 1.05558308e-02, 7.00148463e-01, 2.07817908e-02,\n",
       "        4.61817579e-03, 1.64934844e-02, 6.43245950e-02, 1.20402444e-02,\n",
       "        6.59739375e-02, 7.88388550e-02, 5.11298049e-03, 6.59739424e-04],\n",
       "       [3.45048606e-02, 1.38874049e-03, 3.22187811e-01, 6.24933243e-02,\n",
       "        1.33532742e-02, 8.54609534e-04, 3.98461707e-02, 8.54609534e-03,\n",
       "        1.07039846e-01, 1.69853643e-02, 3.24324310e-01, 6.84755892e-02],\n",
       "       [4.60033827e-02, 2.41487563e-04, 6.39338315e-01, 2.18546242e-02,\n",
       "        1.27988411e-02, 4.82975127e-04, 1.76285915e-02, 3.88794988e-02,\n",
       "        2.04298481e-01, 9.65950266e-03, 5.19198272e-03, 3.62231350e-03],\n",
       "       [9.16179344e-02, 1.24756340e-02, 2.08576992e-01, 7.79727101e-03,\n",
       "        3.46978568e-02, 5.06822625e-03, 3.93762179e-02, 4.85769987e-01,\n",
       "        7.48538002e-02, 2.33918130e-02, 8.18713475e-03, 8.18713475e-03]],\n",
       "      dtype=float32)"
      ]
     },
     "execution_count": 80,
     "metadata": {},
     "output_type": "execute_result"
    }
   ],
   "source": [
    "tags_matrix = np.zeros((len(T), len(T)), dtype='float32')\n",
    "for i, t1 in enumerate(list(T)):\n",
    "    for j, t2 in enumerate(list(T)): \n",
    "        tags_matrix[i, j] = t2_given_t1(t2, t1)[0]/t2_given_t1(t2, t1)[1]\n",
    "\n",
    "tags_matrix"
   ]
  },
  {
   "cell_type": "markdown",
   "metadata": {},
   "source": [
    "# Creating a DataFrame for Tag Matrix"
   ]
  },
  {
   "cell_type": "code",
   "execution_count": 81,
   "metadata": {},
   "outputs": [
    {
     "data": {
      "text/html": [
       "<div>\n",
       "<style scoped>\n",
       "    .dataframe tbody tr th:only-of-type {\n",
       "        vertical-align: middle;\n",
       "    }\n",
       "\n",
       "    .dataframe tbody tr th {\n",
       "        vertical-align: top;\n",
       "    }\n",
       "\n",
       "    .dataframe thead th {\n",
       "        text-align: right;\n",
       "    }\n",
       "</style>\n",
       "<table border=\"1\" class=\"dataframe\">\n",
       "  <thead>\n",
       "    <tr style=\"text-align: right;\">\n",
       "      <th></th>\n",
       "      <th>X</th>\n",
       "      <th>PRT</th>\n",
       "      <th>NOUN</th>\n",
       "      <th>NUM</th>\n",
       "      <th>ADV</th>\n",
       "      <th>CONJ</th>\n",
       "      <th>.</th>\n",
       "      <th>VERB</th>\n",
       "      <th>ADJ</th>\n",
       "      <th>ADP</th>\n",
       "      <th>DET</th>\n",
       "      <th>PRON</th>\n",
       "    </tr>\n",
       "  </thead>\n",
       "  <tbody>\n",
       "    <tr>\n",
       "      <th>X</th>\n",
       "      <td>0.074801</td>\n",
       "      <td>0.184689</td>\n",
       "      <td>0.062041</td>\n",
       "      <td>0.002871</td>\n",
       "      <td>0.025199</td>\n",
       "      <td>0.010367</td>\n",
       "      <td>0.165391</td>\n",
       "      <td>0.203190</td>\n",
       "      <td>0.016587</td>\n",
       "      <td>0.145455</td>\n",
       "      <td>0.055502</td>\n",
       "      <td>0.053907</td>\n",
       "    </tr>\n",
       "    <tr>\n",
       "      <th>PRT</th>\n",
       "      <td>0.013434</td>\n",
       "      <td>0.001638</td>\n",
       "      <td>0.249672</td>\n",
       "      <td>0.056029</td>\n",
       "      <td>0.009502</td>\n",
       "      <td>0.002294</td>\n",
       "      <td>0.042595</td>\n",
       "      <td>0.402031</td>\n",
       "      <td>0.082896</td>\n",
       "      <td>0.020642</td>\n",
       "      <td>0.101245</td>\n",
       "      <td>0.018021</td>\n",
       "    </tr>\n",
       "    <tr>\n",
       "      <th>NOUN</th>\n",
       "      <td>0.029402</td>\n",
       "      <td>0.044103</td>\n",
       "      <td>0.264473</td>\n",
       "      <td>0.009412</td>\n",
       "      <td>0.017036</td>\n",
       "      <td>0.042316</td>\n",
       "      <td>0.239813</td>\n",
       "      <td>0.147011</td>\n",
       "      <td>0.012257</td>\n",
       "      <td>0.176340</td>\n",
       "      <td>0.013278</td>\n",
       "      <td>0.004560</td>\n",
       "    </tr>\n",
       "    <tr>\n",
       "      <th>NUM</th>\n",
       "      <td>0.211447</td>\n",
       "      <td>0.027284</td>\n",
       "      <td>0.352017</td>\n",
       "      <td>0.186240</td>\n",
       "      <td>0.002966</td>\n",
       "      <td>0.014235</td>\n",
       "      <td>0.115362</td>\n",
       "      <td>0.018090</td>\n",
       "      <td>0.032918</td>\n",
       "      <td>0.034698</td>\n",
       "      <td>0.003262</td>\n",
       "      <td>0.001483</td>\n",
       "    </tr>\n",
       "    <tr>\n",
       "      <th>ADV</th>\n",
       "      <td>0.021602</td>\n",
       "      <td>0.014955</td>\n",
       "      <td>0.031572</td>\n",
       "      <td>0.031572</td>\n",
       "      <td>0.078099</td>\n",
       "      <td>0.006647</td>\n",
       "      <td>0.138252</td>\n",
       "      <td>0.347624</td>\n",
       "      <td>0.129279</td>\n",
       "      <td>0.117315</td>\n",
       "      <td>0.067464</td>\n",
       "      <td>0.015620</td>\n",
       "    </tr>\n",
       "    <tr>\n",
       "      <th>CONJ</th>\n",
       "      <td>0.008403</td>\n",
       "      <td>0.004669</td>\n",
       "      <td>0.347339</td>\n",
       "      <td>0.041550</td>\n",
       "      <td>0.054622</td>\n",
       "      <td>0.000467</td>\n",
       "      <td>0.036881</td>\n",
       "      <td>0.156863</td>\n",
       "      <td>0.119048</td>\n",
       "      <td>0.051821</td>\n",
       "      <td>0.119514</td>\n",
       "      <td>0.058824</td>\n",
       "    </tr>\n",
       "    <tr>\n",
       "      <th>.</th>\n",
       "      <td>0.026217</td>\n",
       "      <td>0.002424</td>\n",
       "      <td>0.222661</td>\n",
       "      <td>0.080894</td>\n",
       "      <td>0.052792</td>\n",
       "      <td>0.058000</td>\n",
       "      <td>0.094541</td>\n",
       "      <td>0.088975</td>\n",
       "      <td>0.043634</td>\n",
       "      <td>0.090501</td>\n",
       "      <td>0.174268</td>\n",
       "      <td>0.065003</td>\n",
       "    </tr>\n",
       "    <tr>\n",
       "      <th>VERB</th>\n",
       "      <td>0.217980</td>\n",
       "      <td>0.030718</td>\n",
       "      <td>0.110040</td>\n",
       "      <td>0.023330</td>\n",
       "      <td>0.082199</td>\n",
       "      <td>0.005444</td>\n",
       "      <td>0.034917</td>\n",
       "      <td>0.168987</td>\n",
       "      <td>0.065557</td>\n",
       "      <td>0.092231</td>\n",
       "      <td>0.133681</td>\n",
       "      <td>0.034917</td>\n",
       "    </tr>\n",
       "    <tr>\n",
       "      <th>ADJ</th>\n",
       "      <td>0.020452</td>\n",
       "      <td>0.010556</td>\n",
       "      <td>0.700148</td>\n",
       "      <td>0.020782</td>\n",
       "      <td>0.004618</td>\n",
       "      <td>0.016493</td>\n",
       "      <td>0.064325</td>\n",
       "      <td>0.012040</td>\n",
       "      <td>0.065974</td>\n",
       "      <td>0.078839</td>\n",
       "      <td>0.005113</td>\n",
       "      <td>0.000660</td>\n",
       "    </tr>\n",
       "    <tr>\n",
       "      <th>ADP</th>\n",
       "      <td>0.034505</td>\n",
       "      <td>0.001389</td>\n",
       "      <td>0.322188</td>\n",
       "      <td>0.062493</td>\n",
       "      <td>0.013353</td>\n",
       "      <td>0.000855</td>\n",
       "      <td>0.039846</td>\n",
       "      <td>0.008546</td>\n",
       "      <td>0.107040</td>\n",
       "      <td>0.016985</td>\n",
       "      <td>0.324324</td>\n",
       "      <td>0.068476</td>\n",
       "    </tr>\n",
       "    <tr>\n",
       "      <th>DET</th>\n",
       "      <td>0.046003</td>\n",
       "      <td>0.000241</td>\n",
       "      <td>0.639338</td>\n",
       "      <td>0.021855</td>\n",
       "      <td>0.012799</td>\n",
       "      <td>0.000483</td>\n",
       "      <td>0.017629</td>\n",
       "      <td>0.038879</td>\n",
       "      <td>0.204298</td>\n",
       "      <td>0.009660</td>\n",
       "      <td>0.005192</td>\n",
       "      <td>0.003622</td>\n",
       "    </tr>\n",
       "    <tr>\n",
       "      <th>PRON</th>\n",
       "      <td>0.091618</td>\n",
       "      <td>0.012476</td>\n",
       "      <td>0.208577</td>\n",
       "      <td>0.007797</td>\n",
       "      <td>0.034698</td>\n",
       "      <td>0.005068</td>\n",
       "      <td>0.039376</td>\n",
       "      <td>0.485770</td>\n",
       "      <td>0.074854</td>\n",
       "      <td>0.023392</td>\n",
       "      <td>0.008187</td>\n",
       "      <td>0.008187</td>\n",
       "    </tr>\n",
       "  </tbody>\n",
       "</table>\n",
       "</div>"
      ],
      "text/plain": [
       "             X       PRT      NOUN       NUM       ADV      CONJ         .  \\\n",
       "X     0.074801  0.184689  0.062041  0.002871  0.025199  0.010367  0.165391   \n",
       "PRT   0.013434  0.001638  0.249672  0.056029  0.009502  0.002294  0.042595   \n",
       "NOUN  0.029402  0.044103  0.264473  0.009412  0.017036  0.042316  0.239813   \n",
       "NUM   0.211447  0.027284  0.352017  0.186240  0.002966  0.014235  0.115362   \n",
       "ADV   0.021602  0.014955  0.031572  0.031572  0.078099  0.006647  0.138252   \n",
       "CONJ  0.008403  0.004669  0.347339  0.041550  0.054622  0.000467  0.036881   \n",
       ".     0.026217  0.002424  0.222661  0.080894  0.052792  0.058000  0.094541   \n",
       "VERB  0.217980  0.030718  0.110040  0.023330  0.082199  0.005444  0.034917   \n",
       "ADJ   0.020452  0.010556  0.700148  0.020782  0.004618  0.016493  0.064325   \n",
       "ADP   0.034505  0.001389  0.322188  0.062493  0.013353  0.000855  0.039846   \n",
       "DET   0.046003  0.000241  0.639338  0.021855  0.012799  0.000483  0.017629   \n",
       "PRON  0.091618  0.012476  0.208577  0.007797  0.034698  0.005068  0.039376   \n",
       "\n",
       "          VERB       ADJ       ADP       DET      PRON  \n",
       "X     0.203190  0.016587  0.145455  0.055502  0.053907  \n",
       "PRT   0.402031  0.082896  0.020642  0.101245  0.018021  \n",
       "NOUN  0.147011  0.012257  0.176340  0.013278  0.004560  \n",
       "NUM   0.018090  0.032918  0.034698  0.003262  0.001483  \n",
       "ADV   0.347624  0.129279  0.117315  0.067464  0.015620  \n",
       "CONJ  0.156863  0.119048  0.051821  0.119514  0.058824  \n",
       ".     0.088975  0.043634  0.090501  0.174268  0.065003  \n",
       "VERB  0.168987  0.065557  0.092231  0.133681  0.034917  \n",
       "ADJ   0.012040  0.065974  0.078839  0.005113  0.000660  \n",
       "ADP   0.008546  0.107040  0.016985  0.324324  0.068476  \n",
       "DET   0.038879  0.204298  0.009660  0.005192  0.003622  \n",
       "PRON  0.485770  0.074854  0.023392  0.008187  0.008187  "
      ]
     },
     "execution_count": 81,
     "metadata": {},
     "output_type": "execute_result"
    }
   ],
   "source": [
    "# convert the matrix to a df for better readability\n",
    "import pandas as pd\n",
    "tags_df = pd.DataFrame(tags_matrix, columns = list(T), index=list(T))\n",
    "tags_df"
   ]
  },
  {
   "cell_type": "code",
   "execution_count": 82,
   "metadata": {},
   "outputs": [
    {
     "data": {
      "text/plain": [
       "X       0.026217\n",
       "PRT     0.002424\n",
       "NOUN    0.222661\n",
       "NUM     0.080894\n",
       "ADV     0.052792\n",
       "CONJ    0.058000\n",
       ".       0.094541\n",
       "VERB    0.088975\n",
       "ADJ     0.043634\n",
       "ADP     0.090501\n",
       "DET     0.174268\n",
       "PRON    0.065003\n",
       "Name: ., dtype: float32"
      ]
     },
     "execution_count": 82,
     "metadata": {},
     "output_type": "execute_result"
    }
   ],
   "source": [
    "\n",
    "tags_df.loc['.', :]"
   ]
  },
  {
   "cell_type": "markdown",
   "metadata": {},
   "source": [
    "# Heatmap of tags matrix"
   ]
  },
  {
   "cell_type": "code",
   "execution_count": 83,
   "metadata": {},
   "outputs": [
    {
     "data": {
      "image/png": "[encoded data removed]",
      "text/plain": [
       "<Figure size 1296x864 with 2 Axes>"
      ]
     },
     "metadata": {
      "needs_background": "light"
     },
     "output_type": "display_data"
    }
   ],
   "source": [
    "\n",
    "import matplotlib.pyplot as plt\n",
    "import seaborn as sns\n",
    "plt.figure(figsize=(18, 12))\n",
    "sns.heatmap(tags_df)\n",
    "plt.show()"
   ]
  },
  {
   "cell_type": "markdown",
   "metadata": {},
   "source": [
    "# Frequent tags"
   ]
  },
  {
   "cell_type": "code",
   "execution_count": 84,
   "metadata": {},
   "outputs": [
    {
     "data": {
      "image/png": "[encoded data removed]",
      "text/plain": [
       "<Figure size 1296x864 with 2 Axes>"
      ]
     },
     "metadata": {
      "needs_background": "light"
     },
     "output_type": "display_data"
    }
   ],
   "source": [
    "# filter the df to get P(t2, t1) > 0.25\n",
    "tags_frequent = tags_df[tags_df>0.25]\n",
    "plt.figure(figsize=(18, 12))\n",
    "sns.heatmap(tags_frequent)\n",
    "plt.show()"
   ]
  },
  {
   "cell_type": "markdown",
   "metadata": {},
   "source": [
    "# Viterbi Algorithm"
   ]
  },
  {
   "cell_type": "code",
   "execution_count": 85,
   "metadata": {},
   "outputs": [
    {
     "data": {
      "text/plain": [
       "95526"
      ]
     },
     "execution_count": 85,
     "metadata": {},
     "output_type": "execute_result"
    }
   ],
   "source": [
    "len(train_tagged_words)"
   ]
  },
  {
   "cell_type": "code",
   "execution_count": 86,
   "metadata": {},
   "outputs": [],
   "source": [
    "def Viterbi(words, train_bag = train_tagged_words):\n",
    "    state = []\n",
    "    T = list(set([pair[1] for pair in train_bag]))\n",
    "    \n",
    "    for key, word in enumerate(words):\n",
    "        #initialise list of probability column for a given observation\n",
    "        p = [] \n",
    "        for tag in T:\n",
    "            if key == 0:\n",
    "                transition_p = tags_df.loc['.', tag]\n",
    "            else:\n",
    "                transition_p = tags_df.loc[state[-1], tag]\n",
    "                \n",
    "            # compute emission and state probabilities\n",
    "            emission_p = word_given_tag(words[key], tag)[0]/word_given_tag(words[key], tag)[1]\n",
    "            state_probability = emission_p * transition_p    \n",
    "            p.append(state_probability)\n",
    "            \n",
    "        pmax = max(p)\n",
    "        # getting state for which probability is maximum\n",
    "        state_max = T[p.index(pmax)] \n",
    "        state.append(state_max)\n",
    "    return list(zip(words, state))"
   ]
  },
  {
   "cell_type": "markdown",
   "metadata": {},
   "source": [
    "# Evaluating on Test Set"
   ]
  },
  {
   "cell_type": "code",
   "execution_count": 87,
   "metadata": {},
   "outputs": [
    {
     "data": {
      "text/plain": [
       "[[('Why', 'ADV'),\n",
       "  ('are', 'VERB'),\n",
       "  ('we', 'PRON'),\n",
       "  ('blacks', 'NOUN'),\n",
       "  ('continually', 'ADV'),\n",
       "  ('defined', 'VERB'),\n",
       "  ('*-1', 'X'),\n",
       "  ('by', 'ADP'),\n",
       "  ('our', 'PRON'),\n",
       "  ('minority', 'NOUN'),\n",
       "  ('and', 'CONJ'),\n",
       "  ('the', 'DET'),\n",
       "  ('lowest', 'ADJ'),\n",
       "  ('common', 'ADJ'),\n",
       "  ('denominator', 'NOUN'),\n",
       "  ('.', '.')],\n",
       " [('He', 'PRON'),\n",
       "  ('said', 'VERB'),\n",
       "  ('0', 'X'),\n",
       "  ('the', 'DET'),\n",
       "  ('ban', 'NOUN'),\n",
       "  ('wo', 'VERB'),\n",
       "  (\"n't\", 'ADV'),\n",
       "  ('stop', 'VERB'),\n",
       "  ('privately', 'ADV'),\n",
       "  ('funded', 'VERB'),\n",
       "  ('tissue-transplant', 'ADJ'),\n",
       "  ('research', 'NOUN'),\n",
       "  ('or', 'CONJ'),\n",
       "  ('federally', 'ADV'),\n",
       "  ('funded', 'VERB'),\n",
       "  ('fetal-tissue', 'ADJ'),\n",
       "  ('research', 'NOUN'),\n",
       "  ('that', 'DET'),\n",
       "  ('*T*-111', 'X'),\n",
       "  ('does', 'VERB'),\n",
       "  (\"n't\", 'ADV'),\n",
       "  ('involve', 'VERB'),\n",
       "  ('transplants', 'NOUN'),\n",
       "  ('.', '.')],\n",
       " [('Mr.', 'NOUN'),\n",
       "  ('Coleman', 'NOUN'),\n",
       "  ('said', 'VERB'),\n",
       "  ('this', 'DET'),\n",
       "  ('week', 'NOUN'),\n",
       "  ('that', 'ADP'),\n",
       "  ('he', 'PRON'),\n",
       "  ('would', 'VERB'),\n",
       "  ('devote', 'VERB'),\n",
       "  ('the', 'DET'),\n",
       "  ('remainder', 'NOUN'),\n",
       "  ('of', 'ADP'),\n",
       "  ('the', 'DET'),\n",
       "  ('political', 'ADJ'),\n",
       "  ('season', 'NOUN'),\n",
       "  ('to', 'PRT'),\n",
       "  ('positive', 'ADJ'),\n",
       "  ('campaigning', 'NOUN'),\n",
       "  (',', '.'),\n",
       "  ('but', 'CONJ'),\n",
       "  ('the', 'DET'),\n",
       "  ('truce', 'NOUN'),\n",
       "  ('lasted', 'VERB'),\n",
       "  ('only', 'ADV'),\n",
       "  ('hours', 'NOUN'),\n",
       "  ('.', '.')],\n",
       " [('The', 'DET'),\n",
       "  ('Chandler', 'NOUN'),\n",
       "  (',', '.'),\n",
       "  ('Ariz.', 'NOUN'),\n",
       "  (',', '.'),\n",
       "  ('company', 'NOUN'),\n",
       "  ('said', 'VERB'),\n",
       "  ('0', 'X'),\n",
       "  ('it', 'PRON'),\n",
       "  ('will', 'VERB'),\n",
       "  ('resubmit', 'VERB'),\n",
       "  ('the', 'DET'),\n",
       "  ('registration', 'NOUN'),\n",
       "  ('0', 'X'),\n",
       "  ('*T*-1', 'X'),\n",
       "  ('to', 'PRT'),\n",
       "  ('cover', 'VERB'),\n",
       "  ('only', 'ADV'),\n",
       "  ('the', 'DET'),\n",
       "  ('2.3', 'NUM'),\n",
       "  ('million', 'NUM'),\n",
       "  ('warrants', 'NOUN'),\n",
       "  (',', '.'),\n",
       "  ('each', 'DET'),\n",
       "  ('exercisable', 'ADJ'),\n",
       "  ('for', 'ADP'),\n",
       "  ('the', 'DET'),\n",
       "  ('purchase', 'NOUN'),\n",
       "  ('of', 'ADP'),\n",
       "  ('one', 'NUM'),\n",
       "  ('common', 'ADJ'),\n",
       "  ('share', 'NOUN'),\n",
       "  ('.', '.')],\n",
       " [('For', 'ADP'),\n",
       "  ('an', 'DET'),\n",
       "  ('American', 'ADJ'),\n",
       "  ('reader', 'NOUN'),\n",
       "  (',', '.'),\n",
       "  ('part', 'NOUN'),\n",
       "  ('of', 'ADP'),\n",
       "  ('the', 'DET'),\n",
       "  ('charm', 'NOUN'),\n",
       "  ('of', 'ADP'),\n",
       "  ('this', 'DET'),\n",
       "  ('engaging', 'ADJ'),\n",
       "  ('novel', 'NOUN'),\n",
       "  ('should', 'VERB'),\n",
       "  ('come', 'VERB'),\n",
       "  ('in', 'ADP'),\n",
       "  ('*', 'X'),\n",
       "  ('recognizing', 'VERB'),\n",
       "  ('that', 'ADP'),\n",
       "  ('Japan', 'NOUN'),\n",
       "  ('is', 'VERB'),\n",
       "  (\"n't\", 'ADV'),\n",
       "  ('the', 'DET'),\n",
       "  ('buttoned-down', 'ADJ'),\n",
       "  ('society', 'NOUN'),\n",
       "  ('of', 'ADP'),\n",
       "  ('contemporary', 'ADJ'),\n",
       "  ('American', 'ADJ'),\n",
       "  ('lore', 'NOUN'),\n",
       "  ('.', '.')]]"
      ]
     },
     "execution_count": 87,
     "metadata": {},
     "output_type": "execute_result"
    }
   ],
   "source": [
    "\n",
    "# Running on entire test dataset would take more than 4hrs. \n",
    "# Let's test our Viterbi algorithm on a few sample sentences of test dataset\n",
    "\n",
    "random.seed(1234)\n",
    "\n",
    "# choose random 5 sents\n",
    "rndom = [random.randint(1,len(test_set)) for x in range(5)]\n",
    "\n",
    "# list of sents\n",
    "test_run = [test_set[i] for i in rndom]\n",
    "\n",
    "# list of tagged words\n",
    "test_run_base = [tup for sent in test_run for tup in sent]\n",
    "\n",
    "# list of untagged words\n",
    "test_tagged_words = [tup[0] for sent in test_run for tup in sent]\n",
    "test_run"
   ]
  },
  {
   "cell_type": "markdown",
   "metadata": {},
   "source": [
    "# Tagging the test sentences"
   ]
  },
  {
   "cell_type": "code",
   "execution_count": 88,
   "metadata": {},
   "outputs": [],
   "source": [
    "\n",
    "import time\n",
    "start = time.time()\n",
    "tagged_seq = Viterbi(test_tagged_words)\n",
    "end = time.time()\n",
    "difference = end-start\n"
   ]
  },
  {
   "cell_type": "code",
   "execution_count": 89,
   "metadata": {},
   "outputs": [
    {
     "name": "stdout",
     "output_type": "stream",
     "text": [
      "Time taken in seconds:  76.18085312843323\n",
      "[('Why', 'ADV'), ('are', 'VERB'), ('we', 'PRON'), ('blacks', 'NOUN'), ('continually', 'ADV'), ('defined', 'X'), ('*-1', 'X'), ('by', 'ADP'), ('our', 'PRON'), ('minority', 'NOUN'), ('and', 'CONJ'), ('the', 'DET'), ('lowest', 'ADJ'), ('common', 'ADJ'), ('denominator', 'X'), ('.', '.'), ('He', 'PRON'), ('said', 'VERB'), ('0', 'X'), ('the', 'DET'), ('ban', 'NOUN'), ('wo', 'VERB'), (\"n't\", 'ADV'), ('stop', 'VERB'), ('privately', 'ADV'), ('funded', 'VERB'), ('tissue-transplant', 'X'), ('research', 'NOUN'), ('or', 'CONJ'), ('federally', 'X'), ('funded', 'VERB'), ('fetal-tissue', 'ADJ'), ('research', 'NOUN'), ('that', 'ADP'), ('*T*-111', 'X'), ('does', 'VERB'), (\"n't\", 'ADV'), ('involve', 'VERB'), ('transplants', 'NOUN'), ('.', '.'), ('Mr.', 'NOUN'), ('Coleman', 'NOUN'), ('said', 'VERB'), ('this', 'DET'), ('week', 'NOUN'), ('that', 'ADP'), ('he', 'PRON'), ('would', 'VERB'), ('devote', 'VERB'), ('the', 'DET'), ('remainder', 'NOUN'), ('of', 'ADP'), ('the', 'DET'), ('political', 'ADJ'), ('season', 'NOUN'), ('to', 'PRT'), ('positive', 'ADJ'), ('campaigning', 'NOUN'), (',', '.'), ('but', 'CONJ'), ('the', 'DET'), ('truce', 'NOUN'), ('lasted', 'X'), ('only', 'ADV'), ('hours', 'NOUN'), ('.', '.'), ('The', 'DET'), ('Chandler', 'NOUN'), (',', '.'), ('Ariz.', 'NOUN'), (',', '.'), ('company', 'NOUN'), ('said', 'VERB'), ('0', 'X'), ('it', 'PRON'), ('will', 'VERB'), ('resubmit', 'X'), ('the', 'DET'), ('registration', 'NOUN'), ('0', 'X'), ('*T*-1', 'X'), ('to', 'PRT'), ('cover', 'VERB'), ('only', 'ADV'), ('the', 'DET'), ('2.3', 'NUM'), ('million', 'NUM'), ('warrants', 'NOUN'), (',', '.'), ('each', 'DET'), ('exercisable', 'ADJ'), ('for', 'ADP'), ('the', 'DET'), ('purchase', 'NOUN'), ('of', 'ADP'), ('one', 'NUM'), ('common', 'ADJ'), ('share', 'NOUN'), ('.', '.'), ('For', 'ADP'), ('an', 'DET'), ('American', 'NOUN'), ('reader', 'NOUN'), (',', '.'), ('part', 'NOUN'), ('of', 'ADP'), ('the', 'DET'), ('charm', 'X'), ('of', 'ADP'), ('this', 'DET'), ('engaging', 'VERB'), ('novel', 'NOUN'), ('should', 'VERB'), ('come', 'VERB'), ('in', 'ADP'), ('*', 'X'), ('recognizing', 'X'), ('that', 'ADP'), ('Japan', 'NOUN'), ('is', 'VERB'), (\"n't\", 'ADV'), ('the', 'DET'), ('buttoned-down', 'X'), ('society', 'NOUN'), ('of', 'ADP'), ('contemporary', 'ADJ'), ('American', 'NOUN'), ('lore', 'X'), ('.', '.')]\n"
     ]
    }
   ],
   "source": [
    "print(\"Time taken in seconds: \", difference)\n",
    "print(tagged_seq)"
   ]
  },
  {
   "cell_type": "code",
   "execution_count": 90,
   "metadata": {},
   "outputs": [
    {
     "data": {
      "text/plain": [
       "0.8914728682170543"
      ]
     },
     "execution_count": 90,
     "metadata": {},
     "output_type": "execute_result"
    }
   ],
   "source": [
    "# accuracy\n",
    "check = [i for i, j in zip(tagged_seq, test_run_base) if i == j] \n",
    "viterbi_accuracy = len(check)/len(tagged_seq)\n",
    "viterbi_accuracy"
   ]
  },
  {
   "cell_type": "markdown",
   "metadata": {},
   "source": [
    "# Checking the Incorrect Tagged Cases"
   ]
  },
  {
   "cell_type": "code",
   "execution_count": 91,
   "metadata": {},
   "outputs": [
    {
     "data": {
      "text/plain": [
       "[[('continually', 'ADV'), (('defined', 'X'), ('defined', 'VERB'))],\n",
       " [('common', 'ADJ'), (('denominator', 'X'), ('denominator', 'NOUN'))],\n",
       " [('funded', 'VERB'),\n",
       "  (('tissue-transplant', 'X'), ('tissue-transplant', 'ADJ'))],\n",
       " [('or', 'CONJ'), (('federally', 'X'), ('federally', 'ADV'))],\n",
       " [('research', 'NOUN'), (('that', 'ADP'), ('that', 'DET'))],\n",
       " [('truce', 'NOUN'), (('lasted', 'X'), ('lasted', 'VERB'))],\n",
       " [('will', 'VERB'), (('resubmit', 'X'), ('resubmit', 'VERB'))],\n",
       " [('an', 'DET'), (('American', 'NOUN'), ('American', 'ADJ'))],\n",
       " [('the', 'DET'), (('charm', 'X'), ('charm', 'NOUN'))],\n",
       " [('this', 'DET'), (('engaging', 'VERB'), ('engaging', 'ADJ'))],\n",
       " [('*', 'X'), (('recognizing', 'X'), ('recognizing', 'VERB'))],\n",
       " [('the', 'DET'), (('buttoned-down', 'X'), ('buttoned-down', 'ADJ'))],\n",
       " [('contemporary', 'ADJ'), (('American', 'NOUN'), ('American', 'ADJ'))],\n",
       " [('American', 'ADJ'), (('lore', 'X'), ('lore', 'NOUN'))]]"
      ]
     },
     "execution_count": 91,
     "metadata": {},
     "output_type": "execute_result"
    }
   ],
   "source": [
    "incorrect_tagged_cases = [[test_run_base[i-1],j] for i, j in enumerate(zip(tagged_seq, test_run_base)) if j[0]!=j[1]]\n",
    "incorrect_tagged_cases"
   ]
  },
  {
   "cell_type": "code",
   "execution_count": 92,
   "metadata": {},
   "outputs": [
    {
     "name": "stdout",
     "output_type": "stream",
     "text": [
      "[('Android', 'X'), ('is', 'VERB'), ('a', 'DET'), ('mobile', 'ADJ'), ('operating', 'NOUN'), ('system', 'NOUN'), ('developed', 'VERB'), ('by', 'ADP'), ('Google', 'X'), ('.', '.'), ('Android', 'X'), ('has', 'VERB'), ('been', 'VERB'), ('the', 'DET'), ('best-selling', 'ADJ'), ('OS', 'X'), ('worldwide', 'X'), ('on', 'ADP'), ('smartphones', 'X'), ('since', 'ADP'), ('2011', 'X'), ('and', 'CONJ'), ('on', 'ADP'), ('tablets', 'X'), ('since', 'ADP'), ('2013', 'X'), ('.', '.'), ('Google', 'X'), ('and', 'CONJ'), ('Twitter', 'X'), ('made', 'VERB'), ('a', 'DET'), ('deal', 'NOUN'), ('in', 'ADP'), ('2015', 'X'), ('that', 'ADP'), ('gave', 'VERB'), ('Google', 'X'), ('access', 'NOUN'), ('to', 'PRT'), ('Twitter', 'X'), (\"'s\", 'PRT'), ('firehose', 'X'), ('.', '.'), ('Twitter', 'X'), ('is', 'VERB'), ('an', 'DET'), ('online', 'X'), ('news', 'NOUN'), ('and', 'CONJ'), ('social', 'ADJ'), ('networking', 'NOUN'), ('service', 'NOUN'), ('on', 'ADP'), ('which', 'DET'), ('users', 'NOUN'), ('post', 'NOUN'), ('and', 'CONJ'), ('interact', 'X'), ('with', 'ADP'), ('messages', 'X'), ('known', 'VERB'), ('as', 'ADP'), ('tweets', 'X'), ('.', '.'), ('Before', 'ADP'), ('entering', 'VERB'), ('politics', 'NOUN'), (',', '.'), ('Donald', 'NOUN'), ('Trump', 'NOUN'), ('was', 'VERB'), ('a', 'DET'), ('domineering', 'X'), ('businessman', 'NOUN'), ('and', 'CONJ'), ('a', 'DET'), ('television', 'NOUN'), ('personality', 'X'), ('.', '.'), ('The', 'DET'), ('2018', 'X'), ('FIFA', 'X'), ('World', 'NOUN'), ('Cup', 'X'), ('is', 'VERB'), ('the', 'DET'), ('21st', 'X'), ('FIFA', 'X'), ('World', 'NOUN'), ('Cup', 'X'), (',', '.'), ('an', 'DET'), ('international', 'ADJ'), ('football', 'NOUN'), ('tournament', 'X'), ('contested', 'X'), ('once', 'ADV'), ('every', 'DET'), ('four', 'NUM'), ('years', 'NOUN'), ('.', '.'), ('This', 'DET'), ('is', 'VERB'), ('the', 'DET'), ('first', 'ADJ'), ('World', 'NOUN'), ('Cup', 'X'), ('to', 'PRT'), ('be', 'VERB'), ('held', 'VERB'), ('in', 'ADP'), ('Eastern', 'NOUN'), ('Europe', 'NOUN'), ('and', 'CONJ'), ('the', 'DET'), ('11th', 'ADJ'), ('time', 'NOUN'), ('that', 'ADP'), ('it', 'PRON'), ('has', 'VERB'), ('been', 'VERB'), ('held', 'VERB'), ('in', 'ADP'), ('Europe', 'NOUN'), ('.', '.'), ('Show', 'NOUN'), ('me', 'PRON'), ('the', 'DET'), ('cheapest', 'ADJ'), ('round', 'NOUN'), ('trips', 'X'), ('from', 'ADP'), ('Dallas', 'NOUN'), ('to', 'PRT'), ('Atlanta', 'NOUN'), ('I', 'PRON'), ('would', 'VERB'), ('like', 'ADP'), ('to', 'PRT'), ('see', 'VERB'), ('flights', 'NOUN'), ('from', 'ADP'), ('Denver', 'NOUN'), ('to', 'PRT'), ('Philadelphia', 'NOUN'), ('.', '.'), ('Show', 'NOUN'), ('me', 'PRON'), ('the', 'DET'), ('price', 'NOUN'), ('of', 'ADP'), ('the', 'DET'), ('flights', 'NOUN'), ('leaving', 'VERB'), ('Atlanta', 'NOUN'), ('at', 'ADP'), ('about', 'ADP'), ('3', 'NUM'), ('in', 'ADP'), ('the', 'DET'), ('afternoon', 'NOUN'), ('and', 'CONJ'), ('arriving', 'X'), ('in', 'ADP'), ('San', 'NOUN'), ('Francisco', 'NOUN'), ('.', '.'), ('NASA', 'X'), ('invited', 'X'), ('social', 'ADJ'), ('media', 'NOUN'), ('users', 'NOUN'), ('to', 'PRT'), ('experience', 'NOUN'), ('the', 'DET'), ('launch', 'NOUN'), ('of', 'ADP'), ('ICESAT-2', 'X'), ('Satellite', 'X'), ('.', '.')]\n",
      "102.4201910495758\n"
     ]
    }
   ],
   "source": [
    "from nltk.tokenize import word_tokenize\n",
    "sentence_test = open('Test_sentences.txt',mode='r').read()\n",
    "words = word_tokenize(sentence_test)\n",
    "\n",
    "start = time.time()\n",
    "tagged_seq = Viterbi(words)\n",
    "end = time.time()\n",
    "difference = end-start\n",
    "\n",
    "print(tagged_seq)\n",
    "print(difference)\n",
    "vannila_test_tagged_seq = tagged_seq"
   ]
  },
  {
   "cell_type": "markdown",
   "metadata": {},
   "source": [
    "### Solve the problem of unknown words"
   ]
  },
  {
   "cell_type": "code",
   "execution_count": 93,
   "metadata": {},
   "outputs": [],
   "source": [
    "pattern = [\n",
    "        (r'.*Twitter$', 'NOUN'), \n",
    "        (r'.*Android$', 'NOUN'),\n",
    "        (r'.*Google$', 'NOUN'),\n",
    "        (r'[-+]?\\d*\\.\\d+|\\d+', 'NUM'), # Number with floating values\n",
    "        (r'.*es$', 'VERB'), \n",
    "        (r'.*ing$', 'VERB'), # gerunds or continuous tense\n",
    "        (r'.*ed$', 'VERB'),  # past perfect tense\n",
    "        (r'[A-Z ]+', 'NOUN'),  # all caps eg. FIFA, NASA, etc\n",
    "        (r'.*', 'NOUN'), # default value as NOUN\n",
    "]\n",
    "\n",
    "def rule_based_tagging(word, pattern):\n",
    "    regexp_tagger = nltk.RegexpTagger(pattern)\n",
    "    kv = regexp_tagger.tag(nltk.word_tokenize(word))\n",
    "    for v in kv:\n",
    "        print(word)\n",
    "        print(v[1])\n",
    "        return v[1]"
   ]
  },
  {
   "cell_type": "code",
   "execution_count": 94,
   "metadata": {},
   "outputs": [
    {
     "name": "stdout",
     "output_type": "stream",
     "text": [
      "*T*-132\n",
      "NOUN\n",
      "grand\n",
      "NOUN\n",
      "prohibited\n",
      "VERB\n",
      "ethics\n",
      "NOUN\n",
      "disclosing\n",
      "VERB\n",
      "committing\n",
      "VERB\n",
      "Gelles\n",
      "VERB\n",
      "Wertheim\n",
      "NOUN\n",
      "Schroder\n",
      "NOUN\n",
      "Rail\n",
      "NOUN\n",
      "enclosed\n",
      "VERB\n",
      "transporting\n",
      "VERB\n",
      "autos\n",
      "NOUN\n",
      "Time taken in seconds:  76.20527672767639\n",
      "[('Michael', 'NOUN'), ('Ross', 'NOUN'), (',', '.'), ('a', 'DET'), ('New', 'NOUN'), ('York', 'NOUN'), ('lawyer', 'NOUN'), ('who', 'PRON'), ('*T*-132', 'NOUN'), ('heads', 'VERB'), ('the', 'DET'), ('ABA', 'NOUN'), (\"'s\", 'PRT'), ('grand', 'NOUN'), ('jury', 'NOUN'), ('committee', 'NOUN'), (',', '.'), ('said', 'VERB'), ('that', 'ADP'), ('lawyers', 'NOUN'), ('are', 'VERB'), ('prohibited', 'VERB'), ('*-1', 'X'), ('by', 'ADP'), ('the', 'DET'), ('ABA', 'NOUN'), (\"'s\", 'PRT'), ('code', 'NOUN'), ('of', 'ADP'), ('ethics', 'NOUN'), ('from', 'ADP'), ('*-1', 'X'), ('disclosing', 'VERB'), ('information', 'NOUN'), ('about', 'ADP'), ('a', 'DET'), ('client', 'NOUN'), ('except', 'ADP'), ('where', 'ADV'), ('a', 'DET'), ('court', 'NOUN'), ('orders', 'NOUN'), ('it', 'PRON'), ('*T*-3', 'X'), ('or', 'CONJ'), ('*-1', 'X'), ('to', 'PRT'), ('prevent', 'VERB'), ('the', 'DET'), ('client', 'NOUN'), ('from', 'ADP'), ('*-4', 'X'), ('committing', 'VERB'), ('a', 'DET'), ('criminal', 'ADJ'), ('act', 'NOUN'), ('that', 'ADP'), ('*T*-2', 'X'), ('could', 'VERB'), ('result', 'VERB'), ('in', 'ADP'), ('death', 'NOUN'), ('.', '.'), ('``', '.'), ('It', 'PRON'), (\"'s\", 'VERB'), ('a', 'DET'), ('cosmetic', 'NOUN'), ('move', 'NOUN'), (',', '.'), (\"''\", '.'), ('said', 'VERB'), ('*T*-1', 'X'), ('Jonathan', 'NOUN'), ('S.', 'NOUN'), ('Gelles', 'VERB'), ('of', 'ADP'), ('Wertheim', 'NOUN'), ('Schroder', 'NOUN'), ('&', 'CONJ'), ('Co', 'NOUN'), ('.', '.'), ('In', 'ADP'), ('October', 'NOUN'), ('1988', 'NUM'), (',', '.'), ('7.3', 'NUM'), ('%', 'NOUN'), ('said', 'VERB'), ('0', 'X'), ('they', 'PRON'), ('would', 'VERB'), ('buy', 'VERB'), ('a', 'DET'), ('car', 'NOUN'), ('.', '.'), ('Consolidated', 'NOUN'), ('Rail', 'NOUN'), ('Corp.', 'NOUN'), ('said', 'VERB'), ('0', 'X'), ('it', 'PRON'), ('would', 'VERB'), ('spend', 'VERB'), ('more', 'ADV'), ('than', 'ADP'), ('$', '.'), ('30', 'NUM'), ('million', 'NUM'), ('*U*', 'X'), ('on', 'ADP'), ('1,000', 'NUM'), ('enclosed', 'VERB'), ('railcars', 'NOUN'), ('for', 'ADP'), ('*', 'X'), ('transporting', 'VERB'), ('autos', 'NOUN'), ('.', '.'), ('Hot', 'NOUN'), ('ballot', 'NOUN'), ('topics', 'NOUN'), ('are', 'VERB'), ('expected', 'VERB'), ('*-1', 'X'), ('to', 'PRT'), ('be', 'VERB'), ('abortion', 'NOUN'), (',', '.'), ('the', 'DET'), ('environment', 'NOUN'), ('and', 'CONJ'), ('insurance', 'NOUN'), ('reform', 'NOUN'), ('.', '.')]\n"
     ]
    }
   ],
   "source": [
    "\n",
    "# Viterbi Heuristic\n",
    "def modified_Viterbi_rule_based(words, train_bag = train_tagged_words):\n",
    "    state = []\n",
    "    T = list(set([pair[1] for pair in train_bag]))\n",
    "    \n",
    "    for key, word in enumerate(words):\n",
    "        #initialise list of probability column for a given observation\n",
    "        p = [] \n",
    "        for tag in T:\n",
    "            if key == 0:\n",
    "                transition_p = tags_df.loc['.', tag]\n",
    "            else:\n",
    "                transition_p = tags_df.loc[state[-1], tag]\n",
    "                \n",
    "            # compute emission and state probabilities\n",
    "            emission_p = word_given_tag(words[key], tag)[0]/word_given_tag(words[key], tag)[1]                \n",
    "            state_probability = emission_p * transition_p    \n",
    "            p.append(state_probability)\n",
    "        pmax = max(p)\n",
    "        if pmax == 0.0:       \n",
    "            state_max = rule_based_tagging(word, pattern)\n",
    "            if state_max is None :\n",
    "                state_max = \".\"\n",
    "        else :\n",
    "            state_max = T[p.index(pmax)] \n",
    "        state.append(state_max)\n",
    "    return list(zip(words, state))\n",
    "\n",
    "random.seed(100)\n",
    "\n",
    "# choose random 5 sents\n",
    "rndom = [random.randint(1,len(test_set)) for x in range(5)]\n",
    "\n",
    "# list of sents\n",
    "test_run = [test_set[i] for i in rndom]\n",
    "\n",
    "# list of tagged words\n",
    "test_run_base = [tup for sent in test_run for tup in sent]\n",
    "\n",
    "# list of untagged words\n",
    "test_tagged_words = [tup[0] for sent in test_run for tup in sent]\n",
    "test_run\n",
    "\n",
    "# tagging the test sentences\n",
    "start = time.time()\n",
    "tagged_seq = modified_Viterbi_rule_based(test_tagged_words)\n",
    "end = time.time()\n",
    "difference = end-start\n",
    "\n",
    "print(\"Time taken in seconds: \", difference)\n",
    "print(tagged_seq)"
   ]
  },
  {
   "cell_type": "markdown",
   "metadata": {},
   "source": [
    "# Modified viterbi accuracy"
   ]
  },
  {
   "cell_type": "code",
   "execution_count": 95,
   "metadata": {},
   "outputs": [
    {
     "name": "stdout",
     "output_type": "stream",
     "text": [
      "0.9481481481481482\n"
     ]
    }
   ],
   "source": [
    "check = [i for i, j in zip(tagged_seq, test_run_base) if i == j] \n",
    "rulebased_modified_viterbi_accuracy = len(check)/len(tagged_seq)\n",
    "print(rulebased_modified_viterbi_accuracy)"
   ]
  },
  {
   "cell_type": "code",
   "execution_count": 96,
   "metadata": {},
   "outputs": [
    {
     "data": {
      "text/plain": [
       "[[('who', 'PRON'), (('*T*-132', 'NOUN'), ('*T*-132', 'X'))],\n",
       " [(\"'s\", 'PRT'), (('grand', 'NOUN'), ('grand', 'ADJ'))],\n",
       " [('court', 'NOUN'), (('orders', 'NOUN'), ('orders', 'VERB'))],\n",
       " [('act', 'NOUN'), (('that', 'ADP'), ('that', 'DET'))],\n",
       " [('a', 'DET'), (('cosmetic', 'NOUN'), ('cosmetic', 'ADJ'))],\n",
       " [('S.', 'NOUN'), (('Gelles', 'VERB'), ('Gelles', 'NOUN'))],\n",
       " [('.', '.'), (('Hot', 'NOUN'), ('Hot', 'ADJ'))]]"
      ]
     },
     "execution_count": 96,
     "metadata": {},
     "output_type": "execute_result"
    }
   ],
   "source": [
    "#Incorrect tagged cases\n",
    "incorrect_tagged_cases = [[test_run_base[i-1],j] for i, j in enumerate(zip(tagged_seq, test_run_base)) if j[0]!=j[1]]\n",
    "incorrect_tagged_cases"
   ]
  },
  {
   "cell_type": "code",
   "execution_count": 97,
   "metadata": {},
   "outputs": [
    {
     "name": "stdout",
     "output_type": "stream",
     "text": [
      "Android\n",
      "NOUN\n",
      "Google\n",
      "NOUN\n",
      "Android\n",
      "NOUN\n",
      "OS\n",
      "NOUN\n",
      "worldwide\n",
      "NOUN\n",
      "smartphones\n",
      "VERB\n",
      "2011\n",
      "NUM\n",
      "tablets\n",
      "NOUN\n",
      "2013\n",
      "NUM\n",
      "Google\n",
      "NOUN\n",
      "Twitter\n",
      "NOUN\n",
      "2015\n",
      "NUM\n",
      "Google\n",
      "NOUN\n",
      "Twitter\n",
      "NOUN\n",
      "firehose\n",
      "NOUN\n",
      "Twitter\n",
      "NOUN\n",
      "online\n",
      "NOUN\n",
      "interact\n",
      "NOUN\n",
      "messages\n",
      "VERB\n",
      "tweets\n",
      "NOUN\n",
      "domineering\n",
      "VERB\n",
      "personality\n",
      "NOUN\n",
      "2018\n",
      "NUM\n",
      "FIFA\n",
      "NOUN\n",
      "Cup\n",
      "NOUN\n",
      "21st\n",
      "NUM\n",
      "FIFA\n",
      "NOUN\n",
      "Cup\n",
      "NOUN\n",
      "tournament\n",
      "NOUN\n",
      "contested\n",
      "VERB\n",
      "Cup\n",
      "NOUN\n",
      "trips\n",
      "NOUN\n",
      "arriving\n",
      "VERB\n",
      "NASA\n",
      "NOUN\n",
      "invited\n",
      "VERB\n",
      "ICESAT-2\n",
      "NOUN\n",
      "Satellite\n",
      "NOUN\n",
      "[('Android', 'NOUN'), ('is', 'VERB'), ('a', 'DET'), ('mobile', 'ADJ'), ('operating', 'NOUN'), ('system', 'NOUN'), ('developed', 'VERB'), ('by', 'ADP'), ('Google', 'NOUN'), ('.', '.'), ('Android', 'NOUN'), ('has', 'VERB'), ('been', 'VERB'), ('the', 'DET'), ('best-selling', 'ADJ'), ('OS', 'NOUN'), ('worldwide', 'NOUN'), ('on', 'ADP'), ('smartphones', 'VERB'), ('since', 'ADP'), ('2011', 'NUM'), ('and', 'CONJ'), ('on', 'ADP'), ('tablets', 'NOUN'), ('since', 'ADP'), ('2013', 'NUM'), ('.', '.'), ('Google', 'NOUN'), ('and', 'CONJ'), ('Twitter', 'NOUN'), ('made', 'VERB'), ('a', 'DET'), ('deal', 'NOUN'), ('in', 'ADP'), ('2015', 'NUM'), ('that', 'ADP'), ('gave', 'VERB'), ('Google', 'NOUN'), ('access', 'NOUN'), ('to', 'PRT'), ('Twitter', 'NOUN'), (\"'s\", 'PRT'), ('firehose', 'NOUN'), ('.', '.'), ('Twitter', 'NOUN'), ('is', 'VERB'), ('an', 'DET'), ('online', 'NOUN'), ('news', 'NOUN'), ('and', 'CONJ'), ('social', 'ADJ'), ('networking', 'NOUN'), ('service', 'NOUN'), ('on', 'ADP'), ('which', 'DET'), ('users', 'NOUN'), ('post', 'NOUN'), ('and', 'CONJ'), ('interact', 'NOUN'), ('with', 'ADP'), ('messages', 'VERB'), ('known', 'VERB'), ('as', 'ADP'), ('tweets', 'NOUN'), ('.', '.'), ('Before', 'ADP'), ('entering', 'VERB'), ('politics', 'NOUN'), (',', '.'), ('Donald', 'NOUN'), ('Trump', 'NOUN'), ('was', 'VERB'), ('a', 'DET'), ('domineering', 'VERB'), ('businessman', 'NOUN'), ('and', 'CONJ'), ('a', 'DET'), ('television', 'NOUN'), ('personality', 'NOUN'), ('.', '.'), ('The', 'DET'), ('2018', 'NUM'), ('FIFA', 'NOUN'), ('World', 'NOUN'), ('Cup', 'NOUN'), ('is', 'VERB'), ('the', 'DET'), ('21st', 'NUM'), ('FIFA', 'NOUN'), ('World', 'NOUN'), ('Cup', 'NOUN'), (',', '.'), ('an', 'DET'), ('international', 'ADJ'), ('football', 'NOUN'), ('tournament', 'NOUN'), ('contested', 'VERB'), ('once', 'ADV'), ('every', 'DET'), ('four', 'NUM'), ('years', 'NOUN'), ('.', '.'), ('This', 'DET'), ('is', 'VERB'), ('the', 'DET'), ('first', 'ADJ'), ('World', 'NOUN'), ('Cup', 'NOUN'), ('to', 'PRT'), ('be', 'VERB'), ('held', 'VERB'), ('in', 'ADP'), ('Eastern', 'NOUN'), ('Europe', 'NOUN'), ('and', 'CONJ'), ('the', 'DET'), ('11th', 'ADJ'), ('time', 'NOUN'), ('that', 'ADP'), ('it', 'PRON'), ('has', 'VERB'), ('been', 'VERB'), ('held', 'VERB'), ('in', 'ADP'), ('Europe', 'NOUN'), ('.', '.'), ('Show', 'NOUN'), ('me', 'PRON'), ('the', 'DET'), ('cheapest', 'ADJ'), ('round', 'NOUN'), ('trips', 'NOUN'), ('from', 'ADP'), ('Dallas', 'NOUN'), ('to', 'PRT'), ('Atlanta', 'NOUN'), ('I', 'PRON'), ('would', 'VERB'), ('like', 'ADP'), ('to', 'PRT'), ('see', 'VERB'), ('flights', 'NOUN'), ('from', 'ADP'), ('Denver', 'NOUN'), ('to', 'PRT'), ('Philadelphia', 'NOUN'), ('.', '.'), ('Show', 'NOUN'), ('me', 'PRON'), ('the', 'DET'), ('price', 'NOUN'), ('of', 'ADP'), ('the', 'DET'), ('flights', 'NOUN'), ('leaving', 'VERB'), ('Atlanta', 'NOUN'), ('at', 'ADP'), ('about', 'ADP'), ('3', 'NUM'), ('in', 'ADP'), ('the', 'DET'), ('afternoon', 'NOUN'), ('and', 'CONJ'), ('arriving', 'VERB'), ('in', 'ADP'), ('San', 'NOUN'), ('Francisco', 'NOUN'), ('.', '.'), ('NASA', 'NOUN'), ('invited', 'VERB'), ('social', 'ADJ'), ('media', 'NOUN'), ('users', 'NOUN'), ('to', 'PRT'), ('experience', 'NOUN'), ('the', 'DET'), ('launch', 'NOUN'), ('of', 'ADP'), ('ICESAT-2', 'NOUN'), ('Satellite', 'NOUN'), ('.', '.')]\n",
      "101.80816054344177\n"
     ]
    }
   ],
   "source": [
    "sentence_test = open('Test_sentences.txt',mode='r').read()\n",
    "words = word_tokenize(sentence_test)\n",
    "\n",
    "start = time.time()\n",
    "tagged_seq = modified_Viterbi_rule_based(words)\n",
    "end = time.time()\n",
    "difference = end-start\n",
    "\n",
    "print(tagged_seq)\n",
    "print(difference)\n",
    "rulebased_test_tagged_seq = tagged_seq"
   ]
  },
  {
   "cell_type": "code",
   "execution_count": 98,
   "metadata": {},
   "outputs": [],
   "source": [
    "##Version 2 : Rule Based Tagging with Viterbi\n",
    "\n",
    "def bigram_tagger(wording) :\n",
    "    t0 = DefaultTagger('NOUN')\n",
    "    t1 = UnigramTagger(train_set, backoff=t0)\n",
    "    t2 = BigramTagger(train_set, backoff=t1)\n",
    "    listvalue=t2.tag(nltk.word_tokenize(wording))\n",
    "    return listvalue[0][1]"
   ]
  },
  {
   "cell_type": "code",
   "execution_count": 99,
   "metadata": {},
   "outputs": [
    {
     "name": "stdout",
     "output_type": "stream",
     "text": [
      "defined\n",
      "VERB\n",
      "denominator\n",
      "NOUN\n",
      "tissue-transplant\n",
      "NOUN\n",
      "federally\n",
      "NOUN\n",
      "*T*-111\n",
      "NOUN\n",
      "lasted\n",
      "VERB\n",
      "resubmit\n",
      "NOUN\n",
      "charm\n",
      "NOUN\n",
      "recognizing\n",
      "VERB\n",
      "buttoned-down\n",
      "NOUN\n",
      "lore\n",
      "NOUN\n",
      "Time taken in seconds:  70.79463315010071\n",
      "[('Why', 'ADV'), ('are', 'VERB'), ('we', 'PRON'), ('blacks', 'NOUN'), ('continually', 'ADV'), ('defined', 'VERB'), ('*-1', 'X'), ('by', 'ADP'), ('our', 'PRON'), ('minority', 'NOUN'), ('and', 'CONJ'), ('the', 'DET'), ('lowest', 'ADJ'), ('common', 'ADJ'), ('denominator', 'NOUN'), ('.', '.'), ('He', 'PRON'), ('said', 'VERB'), ('0', 'X'), ('the', 'DET'), ('ban', 'NOUN'), ('wo', 'VERB'), (\"n't\", 'ADV'), ('stop', 'VERB'), ('privately', 'ADV'), ('funded', 'VERB'), ('tissue-transplant', 'NOUN'), ('research', 'NOUN'), ('or', 'CONJ'), ('federally', 'NOUN'), ('funded', 'VERB'), ('fetal-tissue', 'ADJ'), ('research', 'NOUN'), ('that', 'ADP'), ('*T*-111', 'NOUN'), ('does', 'VERB'), (\"n't\", 'ADV'), ('involve', 'VERB'), ('transplants', 'NOUN'), ('.', '.'), ('Mr.', 'NOUN'), ('Coleman', 'NOUN'), ('said', 'VERB'), ('this', 'DET'), ('week', 'NOUN'), ('that', 'ADP'), ('he', 'PRON'), ('would', 'VERB'), ('devote', 'VERB'), ('the', 'DET'), ('remainder', 'NOUN'), ('of', 'ADP'), ('the', 'DET'), ('political', 'ADJ'), ('season', 'NOUN'), ('to', 'PRT'), ('positive', 'ADJ'), ('campaigning', 'NOUN'), (',', '.'), ('but', 'CONJ'), ('the', 'DET'), ('truce', 'NOUN'), ('lasted', 'VERB'), ('only', 'ADV'), ('hours', 'NOUN'), ('.', '.'), ('The', 'DET'), ('Chandler', 'NOUN'), (',', '.'), ('Ariz.', 'NOUN'), (',', '.'), ('company', 'NOUN'), ('said', 'VERB'), ('0', 'X'), ('it', 'PRON'), ('will', 'VERB'), ('resubmit', 'NOUN'), ('the', 'DET'), ('registration', 'NOUN'), ('0', 'X'), ('*T*-1', 'X'), ('to', 'PRT'), ('cover', 'VERB'), ('only', 'ADV'), ('the', 'DET'), ('2.3', 'NUM'), ('million', 'NUM'), ('warrants', 'NOUN'), (',', '.'), ('each', 'DET'), ('exercisable', 'ADJ'), ('for', 'ADP'), ('the', 'DET'), ('purchase', 'NOUN'), ('of', 'ADP'), ('one', 'NUM'), ('common', 'ADJ'), ('share', 'NOUN'), ('.', '.'), ('For', 'ADP'), ('an', 'DET'), ('American', 'NOUN'), ('reader', 'NOUN'), (',', '.'), ('part', 'NOUN'), ('of', 'ADP'), ('the', 'DET'), ('charm', 'NOUN'), ('of', 'ADP'), ('this', 'DET'), ('engaging', 'VERB'), ('novel', 'NOUN'), ('should', 'VERB'), ('come', 'VERB'), ('in', 'ADP'), ('*', 'X'), ('recognizing', 'VERB'), ('that', 'ADP'), ('Japan', 'NOUN'), ('is', 'VERB'), (\"n't\", 'ADV'), ('the', 'DET'), ('buttoned-down', 'NOUN'), ('society', 'NOUN'), ('of', 'ADP'), ('contemporary', 'ADJ'), ('American', 'NOUN'), ('lore', 'NOUN'), ('.', '.')]\n"
     ]
    }
   ],
   "source": [
    "# Viterbi Heuristic\n",
    "def modified_Viterbi_lexicon_based(words, train_bag = train_tagged_words):\n",
    "    state = []\n",
    "    T = list(set([pair[1] for pair in train_bag]))\n",
    "    \n",
    "    for key, word in enumerate(words):\n",
    "        #initialise list of probability column for a given observation\n",
    "        p = [] \n",
    "        for tag in T:\n",
    "            if key == 0:\n",
    "                transition_p = tags_df.loc['.', tag]\n",
    "            else:\n",
    "                transition_p = tags_df.loc[state[-1], tag]\n",
    "                \n",
    "            # compute emission and state probabilities\n",
    "            emission_p = word_given_tag(words[key], tag)[0]/word_given_tag(words[key], tag)[1]                \n",
    "            state_probability = emission_p * transition_p    \n",
    "            p.append(state_probability)\n",
    "        pmax = max(p)\n",
    "        if pmax == 0.0:       \n",
    "            state_max = rule_based_tagging(word, pattern)\n",
    "            if state_max is None :\n",
    "                state_max = \".\"\n",
    "        else :\n",
    "            state_max = T[p.index(pmax)] \n",
    "        state.append(state_max)\n",
    "    return list(zip(words, state))\n",
    "\n",
    "random.seed(1234)\n",
    "\n",
    "# choose random 5 sents\n",
    "rndom = [random.randint(1,len(test_set)) for x in range(5)]\n",
    "\n",
    "# list of sents\n",
    "test_run = [test_set[i] for i in rndom]\n",
    "\n",
    "# list of tagged words\n",
    "test_run_base = [tup for sent in test_run for tup in sent]\n",
    "\n",
    "# list of untagged words\n",
    "test_tagged_words = [tup[0] for sent in test_run for tup in sent]\n",
    "test_run\n",
    "\n",
    "# tagging the test sentences\n",
    "start = time.time()\n",
    "tagged_seq = modified_Viterbi_lexicon_based(test_tagged_words)\n",
    "end = time.time()\n",
    "difference = end-start\n",
    "\n",
    "print(\"Time taken in seconds: \", difference)\n",
    "print(tagged_seq)"
   ]
  },
  {
   "cell_type": "markdown",
   "metadata": {},
   "source": [
    "#### Evaluating tagging accuracy"
   ]
  },
  {
   "cell_type": "code",
   "execution_count": 100,
   "metadata": {},
   "outputs": [
    {
     "name": "stdout",
     "output_type": "stream",
     "text": [
      "0.9302325581395349\n"
     ]
    },
    {
     "data": {
      "text/plain": [
       "[[('funded', 'VERB'),\n",
       "  (('tissue-transplant', 'NOUN'), ('tissue-transplant', 'ADJ'))],\n",
       " [('or', 'CONJ'), (('federally', 'NOUN'), ('federally', 'ADV'))],\n",
       " [('research', 'NOUN'), (('that', 'ADP'), ('that', 'DET'))],\n",
       " [('that', 'DET'), (('*T*-111', 'NOUN'), ('*T*-111', 'X'))],\n",
       " [('will', 'VERB'), (('resubmit', 'NOUN'), ('resubmit', 'VERB'))],\n",
       " [('an', 'DET'), (('American', 'NOUN'), ('American', 'ADJ'))],\n",
       " [('this', 'DET'), (('engaging', 'VERB'), ('engaging', 'ADJ'))],\n",
       " [('the', 'DET'), (('buttoned-down', 'NOUN'), ('buttoned-down', 'ADJ'))],\n",
       " [('contemporary', 'ADJ'), (('American', 'NOUN'), ('American', 'ADJ'))]]"
      ]
     },
     "execution_count": 100,
     "metadata": {},
     "output_type": "execute_result"
    }
   ],
   "source": [
    "# accuracy\n",
    "check = [i for i, j in zip(tagged_seq, test_run_base) if i == j] \n",
    "lexicon_based_viterbi_accuracy = len(check)/len(tagged_seq)\n",
    "print(lexicon_based_viterbi_accuracy)\n",
    "\n",
    "incorrect_tagged_cases = [[test_run_base[i-1],j] for i, j in enumerate(zip(tagged_seq, test_run_base)) if j[0]!=j[1]]\n",
    "incorrect_tagged_cases"
   ]
  },
  {
   "cell_type": "markdown",
   "metadata": {},
   "source": [
    "# Lexican Tagged Sentences"
   ]
  },
  {
   "cell_type": "code",
   "execution_count": 101,
   "metadata": {},
   "outputs": [
    {
     "name": "stdout",
     "output_type": "stream",
     "text": [
      "Android\n",
      "NOUN\n",
      "Google\n",
      "NOUN\n",
      "Android\n",
      "NOUN\n",
      "OS\n",
      "NOUN\n",
      "worldwide\n",
      "NOUN\n",
      "smartphones\n",
      "VERB\n",
      "2011\n",
      "NUM\n",
      "tablets\n",
      "NOUN\n",
      "2013\n",
      "NUM\n",
      "Google\n",
      "NOUN\n",
      "Twitter\n",
      "NOUN\n",
      "2015\n",
      "NUM\n",
      "Google\n",
      "NOUN\n",
      "Twitter\n",
      "NOUN\n",
      "firehose\n",
      "NOUN\n",
      "Twitter\n",
      "NOUN\n",
      "online\n",
      "NOUN\n",
      "interact\n",
      "NOUN\n",
      "messages\n",
      "VERB\n",
      "tweets\n",
      "NOUN\n",
      "domineering\n",
      "VERB\n",
      "personality\n",
      "NOUN\n",
      "2018\n",
      "NUM\n",
      "FIFA\n",
      "NOUN\n",
      "Cup\n",
      "NOUN\n",
      "21st\n",
      "NUM\n",
      "FIFA\n",
      "NOUN\n",
      "Cup\n",
      "NOUN\n",
      "tournament\n",
      "NOUN\n",
      "contested\n",
      "VERB\n",
      "Cup\n",
      "NOUN\n",
      "trips\n",
      "NOUN\n",
      "arriving\n",
      "VERB\n",
      "NASA\n",
      "NOUN\n",
      "invited\n",
      "VERB\n",
      "ICESAT-2\n",
      "NOUN\n",
      "Satellite\n",
      "NOUN\n",
      "[('Android', 'NOUN'), ('is', 'VERB'), ('a', 'DET'), ('mobile', 'ADJ'), ('operating', 'NOUN'), ('system', 'NOUN'), ('developed', 'VERB'), ('by', 'ADP'), ('Google', 'NOUN'), ('.', '.'), ('Android', 'NOUN'), ('has', 'VERB'), ('been', 'VERB'), ('the', 'DET'), ('best-selling', 'ADJ'), ('OS', 'NOUN'), ('worldwide', 'NOUN'), ('on', 'ADP'), ('smartphones', 'VERB'), ('since', 'ADP'), ('2011', 'NUM'), ('and', 'CONJ'), ('on', 'ADP'), ('tablets', 'NOUN'), ('since', 'ADP'), ('2013', 'NUM'), ('.', '.'), ('Google', 'NOUN'), ('and', 'CONJ'), ('Twitter', 'NOUN'), ('made', 'VERB'), ('a', 'DET'), ('deal', 'NOUN'), ('in', 'ADP'), ('2015', 'NUM'), ('that', 'ADP'), ('gave', 'VERB'), ('Google', 'NOUN'), ('access', 'NOUN'), ('to', 'PRT'), ('Twitter', 'NOUN'), (\"'s\", 'PRT'), ('firehose', 'NOUN'), ('.', '.'), ('Twitter', 'NOUN'), ('is', 'VERB'), ('an', 'DET'), ('online', 'NOUN'), ('news', 'NOUN'), ('and', 'CONJ'), ('social', 'ADJ'), ('networking', 'NOUN'), ('service', 'NOUN'), ('on', 'ADP'), ('which', 'DET'), ('users', 'NOUN'), ('post', 'NOUN'), ('and', 'CONJ'), ('interact', 'NOUN'), ('with', 'ADP'), ('messages', 'VERB'), ('known', 'VERB'), ('as', 'ADP'), ('tweets', 'NOUN'), ('.', '.'), ('Before', 'ADP'), ('entering', 'VERB'), ('politics', 'NOUN'), (',', '.'), ('Donald', 'NOUN'), ('Trump', 'NOUN'), ('was', 'VERB'), ('a', 'DET'), ('domineering', 'VERB'), ('businessman', 'NOUN'), ('and', 'CONJ'), ('a', 'DET'), ('television', 'NOUN'), ('personality', 'NOUN'), ('.', '.'), ('The', 'DET'), ('2018', 'NUM'), ('FIFA', 'NOUN'), ('World', 'NOUN'), ('Cup', 'NOUN'), ('is', 'VERB'), ('the', 'DET'), ('21st', 'NUM'), ('FIFA', 'NOUN'), ('World', 'NOUN'), ('Cup', 'NOUN'), (',', '.'), ('an', 'DET'), ('international', 'ADJ'), ('football', 'NOUN'), ('tournament', 'NOUN'), ('contested', 'VERB'), ('once', 'ADV'), ('every', 'DET'), ('four', 'NUM'), ('years', 'NOUN'), ('.', '.'), ('This', 'DET'), ('is', 'VERB'), ('the', 'DET'), ('first', 'ADJ'), ('World', 'NOUN'), ('Cup', 'NOUN'), ('to', 'PRT'), ('be', 'VERB'), ('held', 'VERB'), ('in', 'ADP'), ('Eastern', 'NOUN'), ('Europe', 'NOUN'), ('and', 'CONJ'), ('the', 'DET'), ('11th', 'ADJ'), ('time', 'NOUN'), ('that', 'ADP'), ('it', 'PRON'), ('has', 'VERB'), ('been', 'VERB'), ('held', 'VERB'), ('in', 'ADP'), ('Europe', 'NOUN'), ('.', '.'), ('Show', 'NOUN'), ('me', 'PRON'), ('the', 'DET'), ('cheapest', 'ADJ'), ('round', 'NOUN'), ('trips', 'NOUN'), ('from', 'ADP'), ('Dallas', 'NOUN'), ('to', 'PRT'), ('Atlanta', 'NOUN'), ('I', 'PRON'), ('would', 'VERB'), ('like', 'ADP'), ('to', 'PRT'), ('see', 'VERB'), ('flights', 'NOUN'), ('from', 'ADP'), ('Denver', 'NOUN'), ('to', 'PRT'), ('Philadelphia', 'NOUN'), ('.', '.'), ('Show', 'NOUN'), ('me', 'PRON'), ('the', 'DET'), ('price', 'NOUN'), ('of', 'ADP'), ('the', 'DET'), ('flights', 'NOUN'), ('leaving', 'VERB'), ('Atlanta', 'NOUN'), ('at', 'ADP'), ('about', 'ADP'), ('3', 'NUM'), ('in', 'ADP'), ('the', 'DET'), ('afternoon', 'NOUN'), ('and', 'CONJ'), ('arriving', 'VERB'), ('in', 'ADP'), ('San', 'NOUN'), ('Francisco', 'NOUN'), ('.', '.'), ('NASA', 'NOUN'), ('invited', 'VERB'), ('social', 'ADJ'), ('media', 'NOUN'), ('users', 'NOUN'), ('to', 'PRT'), ('experience', 'NOUN'), ('the', 'DET'), ('launch', 'NOUN'), ('of', 'ADP'), ('ICESAT-2', 'NOUN'), ('Satellite', 'NOUN'), ('.', '.')]\n",
      "100.29930543899536\n"
     ]
    }
   ],
   "source": [
    "sentence_test = open('Test_sentences.txt',mode='r').read()\n",
    "words = word_tokenize(sentence_test)\n",
    "\n",
    "start = time.time()\n",
    "tagged_seq = modified_Viterbi_lexicon_based(words)\n",
    "end = time.time()\n",
    "difference = end-start\n",
    "\n",
    "print(tagged_seq)\n",
    "print(difference)\n",
    "lexicon_test_tagged_seq = tagged_seq"
   ]
  },
  {
   "cell_type": "markdown",
   "metadata": {},
   "source": [
    "### Compare the tagging accuracies of the modifications with the vanilla Viterbi algorithm"
   ]
  },
  {
   "cell_type": "code",
   "execution_count": 102,
   "metadata": {},
   "outputs": [
    {
     "name": "stdout",
     "output_type": "stream",
     "text": [
      " Vannila Viterbi Accuracy: 0.8914728682170543\n",
      "Lexicon Based Viterbi Accuracy: 0.9302325581395349\n",
      "Rule Based Viterbi Accuracy: 0.9481481481481482\n"
     ]
    }
   ],
   "source": [
    "print(\" Vannila Viterbi Accuracy: \"+ str(viterbi_accuracy))\n",
    "print(\"Lexicon Based Viterbi Accuracy: \"+ str(lexicon_based_viterbi_accuracy))\n",
    "print(\"Rule Based Viterbi Accuracy: \"+ str(rulebased_modified_viterbi_accuracy))"
   ]
  },
  {
   "cell_type": "markdown",
   "metadata": {},
   "source": [
    "### List down cases which were incorrectly tagged by original POS tagger and got corrected by your modifications"
   ]
  },
  {
   "cell_type": "markdown",
   "metadata": {},
   "source": [
    "\n",
    "Lexicon Based Viterbi & Rule Based Viterbi 's accuracy are greater than Vannila Viterbi's accuracy\n",
    "\n",
    "\n",
    "The below cases which were incorrectly tagged as original POS tags are now corrected by the modifications.\n",
    "\n",
    "1.Words like 'Twitter', 'Android', 'Google' are properly tagged with 'NOUN' in modified Viterbi Algorithm.\n",
    "\n",
    "2.Words like 'NASA', 'FIFA' are correctly tagged as 'NOUN' (All Caps of a word generally will be an abbrevation and it is a noun).\n",
    "\n",
    "3.Words ending with '-ing' like 'arriving' and words ending with '-ed' are properly tagged as 'VERB' in Rule Based Tagging.\n",
    "\n",
    "4.In Lexicon tagger, words are tagged as 'NOUN' by default in the default tagger if any of the taggers not able to tag them. And it corrects most of the unknown words like 'Google', 'Android', 'Twitter' etc.\n"
   ]
  },
  {
   "cell_type": "code",
   "execution_count": null,
   "metadata": {},
   "outputs": [],
   "source": []
  },
  {
   "cell_type": "code",
   "execution_count": null,
   "metadata": {},
   "outputs": [],
   "source": []
  }
 ],
 "metadata": {
  "kernelspec": {
   "display_name": "Python 3",
   "language": "python",
   "name": "python3"
  },
  "language_info": {
   "codemirror_mode": {
    "name": "ipython",
    "version": 3
   },
   "file_extension": ".py",
   "mimetype": "text/x-python",
   "name": "python",
   "nbconvert_exporter": "python",
   "pygments_lexer": "ipython3",
   "version": "3.8.5"
  }
 },
 "nbformat": 4,
 "nbformat_minor": 2
}
